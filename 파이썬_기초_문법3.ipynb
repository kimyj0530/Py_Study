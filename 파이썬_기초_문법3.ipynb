{
  "nbformat": 4,
  "nbformat_minor": 0,
  "metadata": {
    "colab": {
      "provenance": []
    },
    "kernelspec": {
      "name": "python3",
      "display_name": "Python 3"
    },
    "language_info": {
      "name": "python"
    }
  },
  "cells": [
    {
      "cell_type": "code",
      "execution_count": 23,
      "metadata": {
        "colab": {
          "base_uri": "https://localhost:8080/"
        },
        "id": "lHh5jFNN-ft-",
        "outputId": "1ca9f0f6-24ec-4bc3-8dd8-c04f897fdf09"
      },
      "outputs": [
        {
          "output_type": "stream",
          "name": "stdout",
          "text": [
            "['jane', 'mina', 'Zoe']\n",
            "['jane', 'mina', 'Zoe', 'kepler', 'mike']\n",
            "['jane', 'mina', 'Zoe', 'mike']\n",
            "2\n",
            "어디에 있나요? mina\n",
            "mina은(는) 2에 있습니다. \n"
          ]
        }
      ],
      "source": [
        "# 해결문제 1\n",
        "\n",
        "# - 리스트에 vip_names['jane', 'mina', 'Zoe']\n",
        "vip_names = ['jane', 'mina', 'Zoe']\n",
        "print(vip_names)\n",
        "\n",
        "# - kepler님과 mike님이 vip 손님으로 추가가 되고 출력하시오.\n",
        "vip_names.append('kepler')\n",
        "vip_names.append('mike')\n",
        "print(vip_names)\n",
        "\n",
        "# - kepler님이 안온다고 연락이 와서 삭제하고 다시 출력하시오.\n",
        "vip_names.remove('kepler')\n",
        "print(vip_names)\n",
        "\n",
        "# - Zoe님과 Aria님이 방이 어디에 있는지 출력하시오.\n",
        "print(vip_names.index('Zoe'))\n",
        "# print(vip_names.index('Aria'))\n",
        "\n",
        "# 입력을 받아서 사람이 없으면 없다고 출력\n",
        "name = input('어디에 있나요? ')\n",
        "if vip_names.index(f'{name}') == 0:\n",
        "    print('없습니다')\n",
        "else:\n",
        "    print(f'{name}은(는) {vip_names.index(name)+1}에 있습니다.')"
      ]
    },
    {
      "cell_type": "code",
      "source": [
        "old_list = [10, 20, 30, 40, 50]\n",
        "new_list = old_list\n",
        "new_list2 = old_list.copy()\n",
        "print(old_list[0])\n",
        "old_list[0]=100\n",
        "print(new_list[0])\n",
        "print(new_list2[0])"
      ],
      "metadata": {
        "colab": {
          "base_uri": "https://localhost:8080/"
        },
        "id": "nkKI11w3_u56",
        "outputId": "b26c3c6d-351b-4a05-bebc-4cc66a28cf11"
      },
      "execution_count": 27,
      "outputs": [
        {
          "output_type": "stream",
          "name": "stdout",
          "text": [
            "10\n",
            "100\n",
            "10\n"
          ]
        }
      ]
    },
    {
      "cell_type": "code",
      "source": [
        "# 리스트 언패킹\n",
        "member_list = ['Kevin', 24, 'Python']\n",
        "name, age, lan = member_list\n",
        "print(name)\n",
        "print(age)\n",
        "print(lan)"
      ],
      "metadata": {
        "colab": {
          "base_uri": "https://localhost:8080/"
        },
        "id": "8898Bl1ZEkay",
        "outputId": "cda4cc46-cca2-4b70-a905-566afa543ea5"
      },
      "execution_count": 29,
      "outputs": [
        {
          "output_type": "stream",
          "name": "stdout",
          "text": [
            "Kevin\n",
            "24\n",
            "Python\n"
          ]
        }
      ]
    },
    {
      "cell_type": "markdown",
      "source": [
        "## 2) 튜플\n",
        "\n",
        "\n",
        "* 튜플의 각 요소는 순서를 가지고 있음\n",
        "* 괄호로 작성되며 각 요소는 쉼표로 구분\n",
        "* 요소를 추가, 수정, 삭제 불가능\n",
        "* 한번 결정된 요소는 변경 불가능\n",
        "* 인덱싱과 슬라이싱은 리스트와 동일\n",
        "* + 와 * 연산은 리스트와 동일\n",
        "* 각 요소에 변수 할당 가능\n",
        "    * 예) x, y = (10, 20)\n",
        "\n",
        "\n"
      ],
      "metadata": {
        "id": "ixopHJ4WFVq-"
      }
    },
    {
      "cell_type": "code",
      "source": [
        "# 인덱싱과 슬라이싱은 리스트와 동일\n",
        "tp = (10, 20, 30)\n",
        "print(tp[0])\n",
        "\n",
        "# tp[0] = 20 # 수정 불가"
      ],
      "metadata": {
        "colab": {
          "base_uri": "https://localhost:8080/",
          "height": 218
        },
        "id": "fOmZPhryGCeu",
        "outputId": "f988bf26-c9f0-4e36-9460-2a6f71e644eb"
      },
      "execution_count": 31,
      "outputs": [
        {
          "output_type": "stream",
          "name": "stdout",
          "text": [
            "10\n"
          ]
        },
        {
          "output_type": "error",
          "ename": "TypeError",
          "evalue": "ignored",
          "traceback": [
            "\u001b[0;31m---------------------------------------------------------------------------\u001b[0m",
            "\u001b[0;31mTypeError\u001b[0m                                 Traceback (most recent call last)",
            "\u001b[0;32m<ipython-input-31-889b00ba2612>\u001b[0m in \u001b[0;36m<module>\u001b[0;34m\u001b[0m\n\u001b[1;32m      2\u001b[0m \u001b[0mtp\u001b[0m \u001b[0;34m=\u001b[0m \u001b[0;34m(\u001b[0m\u001b[0;36m10\u001b[0m\u001b[0;34m,\u001b[0m \u001b[0;36m20\u001b[0m\u001b[0;34m,\u001b[0m \u001b[0;36m30\u001b[0m\u001b[0;34m)\u001b[0m\u001b[0;34m\u001b[0m\u001b[0;34m\u001b[0m\u001b[0m\n\u001b[1;32m      3\u001b[0m \u001b[0mprint\u001b[0m\u001b[0;34m(\u001b[0m\u001b[0mtp\u001b[0m\u001b[0;34m[\u001b[0m\u001b[0;36m0\u001b[0m\u001b[0;34m]\u001b[0m\u001b[0;34m)\u001b[0m\u001b[0;34m\u001b[0m\u001b[0;34m\u001b[0m\u001b[0m\n\u001b[0;32m----> 4\u001b[0;31m \u001b[0mtp\u001b[0m\u001b[0;34m[\u001b[0m\u001b[0;36m0\u001b[0m\u001b[0;34m]\u001b[0m \u001b[0;34m=\u001b[0m \u001b[0;36m20\u001b[0m \u001b[0;31m# 수정 불가\u001b[0m\u001b[0;34m\u001b[0m\u001b[0;34m\u001b[0m\u001b[0m\n\u001b[0m",
            "\u001b[0;31mTypeError\u001b[0m: 'tuple' object does not support item assignment"
          ]
        }
      ]
    },
    {
      "cell_type": "code",
      "source": [
        "# + 와 * 연산은 리스트와 동일\n",
        "tp1=(10, 20)\n",
        "tp2=(30, 40)\n",
        "tp3=tp1+tp2\n",
        "print(tp3)\n",
        "tp4=tp3*2\n",
        "print(tp4)"
      ],
      "metadata": {
        "colab": {
          "base_uri": "https://localhost:8080/"
        },
        "id": "i5kkiP9oGTNB",
        "outputId": "92c14a4a-fc6b-4c7a-f410-2f0ee00bf716"
      },
      "execution_count": 35,
      "outputs": [
        {
          "output_type": "stream",
          "name": "stdout",
          "text": [
            "(10, 20, 30, 40)\n",
            "(10, 20, 30, 40, 10, 20, 30, 40)\n"
          ]
        }
      ]
    },
    {
      "cell_type": "code",
      "source": [
        "# 각 요소에 변수 할당 가능\n",
        "tpx, tpy=(10, 20)\n",
        "print(tpx)\n",
        "print(tpy)"
      ],
      "metadata": {
        "colab": {
          "base_uri": "https://localhost:8080/"
        },
        "id": "xshRtDzpG6iQ",
        "outputId": "92bdddfc-831b-44df-d652-bd66b932e8af"
      },
      "execution_count": 37,
      "outputs": [
        {
          "output_type": "stream",
          "name": "stdout",
          "text": [
            "10\n",
            "20\n"
          ]
        }
      ]
    },
    {
      "cell_type": "markdown",
      "source": [
        "## 3) 딕셔너리\n",
        "* 특징\n",
        "  * 키(key)와 값(value) 쌍을 요소로 가짐\n",
        "  * 중괄호로 작성되며 각 요소는 쉼표로 구분\n",
        "  * 순서 없음\n",
        "  * 키는 변경할 수 없으며 값은 변경가능\n",
        "* 딕셔너리 접근\n",
        "  * 특정 요소 값 : 딕셔너리명[키]\n",
        "  * 요소 키 컬렉션 : 딕셔너리명.keys()\n",
        "  * 요소 값 컬렉션 : 딕셔너리명.values()\n",
        "  * 키와 요소 컬렉션은 list() 생성자로 리스트로 변환가능\n",
        "* 요소 추가\n",
        "  * 딕셔너리명[추가키] = 값\n",
        "* 요소 수정\n",
        "  * 딕셔너리명[키] = 값\n",
        "* 요소 삭제\n",
        "  * del 딕셔너리명[키]\n",
        "  * 딕셔너리명.pop[키]"
      ],
      "metadata": {
        "id": "p93llXLoHZtM"
      }
    },
    {
      "cell_type": "code",
      "source": [
        "# 딕셔너리\n",
        "dt={'a':200, 'b':150, 'c':100}\n",
        "print(dt)"
      ],
      "metadata": {
        "colab": {
          "base_uri": "https://localhost:8080/"
        },
        "id": "oGbrtqNxIsnZ",
        "outputId": "ba87fba4-69c3-4089-c1cd-0d7787c1fbf5"
      },
      "execution_count": 38,
      "outputs": [
        {
          "output_type": "stream",
          "name": "stdout",
          "text": [
            "{'a': 200, 'b': 150, 'c': 100}\n"
          ]
        }
      ]
    },
    {
      "cell_type": "code",
      "source": [
        "# 딕셔너리 키\n",
        "dt={'a':200, 'b':150, 'c':100}\n",
        "print(list(dt.keys()))"
      ],
      "metadata": {
        "colab": {
          "base_uri": "https://localhost:8080/"
        },
        "id": "IqwVzXEgItVN",
        "outputId": "0f0c90b4-1bbc-436c-c7c4-185c0f509294"
      },
      "execution_count": 39,
      "outputs": [
        {
          "output_type": "stream",
          "name": "stdout",
          "text": [
            "['a', 'b', 'c']\n"
          ]
        }
      ]
    },
    {
      "cell_type": "code",
      "source": [
        "# 딕셔너리 값\n",
        "dt={'a':200, 'b':150, 'c':100}\n",
        "print(list(dt.values()))"
      ],
      "metadata": {
        "colab": {
          "base_uri": "https://localhost:8080/"
        },
        "id": "o2ZwXmTmItXp",
        "outputId": "3bcbfe56-e591-4339-d06b-dad3fced5c23"
      },
      "execution_count": 40,
      "outputs": [
        {
          "output_type": "stream",
          "name": "stdout",
          "text": [
            "[200, 150, 100]\n"
          ]
        }
      ]
    },
    {
      "cell_type": "code",
      "source": [
        "# 딕셔너리 접근\n",
        "dt={'a':200, 'b':150, 'c':100}\n",
        "print(dt['a'])\n",
        "print(dt['b'])\n",
        "print(dt['c'])"
      ],
      "metadata": {
        "colab": {
          "base_uri": "https://localhost:8080/"
        },
        "id": "lHhAG-KYItZ4",
        "outputId": "214c11c8-9d6d-49a1-eeba-a001dc7e5145"
      },
      "execution_count": 41,
      "outputs": [
        {
          "output_type": "stream",
          "name": "stdout",
          "text": [
            "200\n",
            "150\n",
            "100\n"
          ]
        }
      ]
    },
    {
      "cell_type": "code",
      "source": [
        "# 딕셔너리 추가\n",
        "dt={'a':200, 'b':150, 'c':100}\n",
        "dt['d']=300\n",
        "print(dt)\n",
        "dt['d']=250\n",
        "print(dt)\n",
        "dt.update({'e':400})\n",
        "print(dt)"
      ],
      "metadata": {
        "colab": {
          "base_uri": "https://localhost:8080/"
        },
        "id": "TiC3mYHCJaGj",
        "outputId": "0876d06e-ee7b-4ece-85ea-4eb727315d3d"
      },
      "execution_count": 47,
      "outputs": [
        {
          "output_type": "stream",
          "name": "stdout",
          "text": [
            "{'a': 200, 'b': 150, 'c': 100, 'd': 300}\n",
            "{'a': 200, 'b': 150, 'c': 100, 'd': 250}\n",
            "{'a': 200, 'b': 150, 'c': 100, 'd': 250, 'e': 400}\n"
          ]
        }
      ]
    },
    {
      "cell_type": "code",
      "source": [
        "# 딕셔너리 삭제\n",
        "dt={'a':200, 'b':150, 'c':100}\n",
        "del dt['b']\n",
        "print(dt)\n",
        "dt.pop('a')\n",
        "print(dt)\n",
        "\n",
        "# 모두 지우기\n",
        "dt.clear()\n",
        "print(dt)"
      ],
      "metadata": {
        "colab": {
          "base_uri": "https://localhost:8080/"
        },
        "id": "H-j3c1LHJiKZ",
        "outputId": "f3c2ac36-85e4-4f62-92fc-fb13fd8a1965"
      },
      "execution_count": 52,
      "outputs": [
        {
          "output_type": "stream",
          "name": "stdout",
          "text": [
            "{'a': 200, 'c': 100}\n",
            "{'c': 100}\n",
            "{}\n"
          ]
        }
      ]
    },
    {
      "cell_type": "code",
      "source": [
        "phone_book={'Dongseo':'111-1111', 'Jason':'222-2222', 'David':'333-3333'}\n",
        "# Dongseo의 전화번호를 출력하시오\n",
        "print(phone_book['Dongseo'])\n",
        "# David의 전화번호를 555-5555로 변경하여 출력하시오\n",
        "phone_book['David'] = '555-5555'\n",
        "print(phone_book['David'])\n",
        "\n",
        "print('David' in phone_book)"
      ],
      "metadata": {
        "colab": {
          "base_uri": "https://localhost:8080/"
        },
        "id": "7pScm-J2NX5F",
        "outputId": "c1abe12f-5a4e-4d86-c4d0-62aedf1e6616"
      },
      "execution_count": 54,
      "outputs": [
        {
          "output_type": "stream",
          "name": "stdout",
          "text": [
            "111-1111\n",
            "555-5555\n",
            "True\n"
          ]
        }
      ]
    },
    {
      "cell_type": "markdown",
      "source": [
        "## 4) 집합\n",
        "* 특징\n",
        "  * 중복 없는 요소로만 구성\n",
        "  * 중괄호로 작성되며 각 요소는 쉼표로 구분\n",
        "  * 순서 없음\n",
        "* 생성자 : set()\n",
        "  * 리스트나 튜플의 중복 요소 제거\n",
        "* 요소 추가\n",
        "  * 집합명.add(요소) : 하나의 요소 추가\n",
        "  * 집합명.update(추가집합) : 여러 요소를 추가\n",
        "* 요소 삭제\n",
        "  * 집합명.remove(요소값) : 하나의 요소 삭제\n",
        "* 집합 연산\n",
        "  * 교집합 &\n",
        "  * 합집합 : |\n",
        "  * 차집합 : -"
      ],
      "metadata": {
        "id": "ojc0Kvq6O8NE"
      }
    },
    {
      "cell_type": "code",
      "source": [
        "# 집합 요소 추가\n",
        "a = (1, 2, 2, 3) # 튜플\n",
        "b = [10, 20, 30, 30] # 리스트\n",
        "a = set(a)\n",
        "b = set(b)\n",
        "print(a)\n",
        "print(b)\n",
        "\n",
        "a.add(100)\n",
        "b.update({100, 200, 300})\n",
        "print(a)\n",
        "print(b)\n",
        "\n",
        "# 집합 요소 삭제\n",
        "a.remove(100)\n",
        "print(a)\n",
        "\n",
        "b.clear()\n",
        "print(b)"
      ],
      "metadata": {
        "colab": {
          "base_uri": "https://localhost:8080/"
        },
        "id": "98pKP6onM9rv",
        "outputId": "e94a6d33-c3a5-48ca-e1ef-bae9b1ae0e93"
      },
      "execution_count": 58,
      "outputs": [
        {
          "output_type": "stream",
          "name": "stdout",
          "text": [
            "{1, 2, 3}\n",
            "{10, 20, 30}\n",
            "{1, 2, 3, 100}\n",
            "{20, 100, 200, 10, 300, 30}\n",
            "{1, 2, 3}\n",
            "set()\n"
          ]
        }
      ]
    },
    {
      "cell_type": "code",
      "source": [
        "# 집합 연산\n",
        "a = (1, 2, 3, 10, 20)\n",
        "b = (2, 10,20, 30)\n",
        "a=set(a)\n",
        "b=set(b)\n",
        "\n",
        "print(f'교집합 a & b = {a & b}')\n",
        "print(f'합집합 a | b = {a | b}')\n",
        "print(f'차집합 a - b = {a - b}')\n",
        "print(f'교집합 b - a = {b - a}')"
      ],
      "metadata": {
        "colab": {
          "base_uri": "https://localhost:8080/"
        },
        "id": "3_NTJB0hM9ux",
        "outputId": "eb02e110-daa3-45b1-8e8d-55cf9b5e28d2"
      },
      "execution_count": 61,
      "outputs": [
        {
          "output_type": "stream",
          "name": "stdout",
          "text": [
            "교집합 a & b = {2, 10, 20}\n",
            "합집합 a | b = {1, 2, 3, 10, 20, 30}\n",
            "차집합 a - b = {1, 3}\n",
            "교집합 b - a = {30}\n"
          ]
        }
      ]
    },
    {
      "cell_type": "code",
      "source": [
        "# 해결 문제 1\n",
        "# set으로 출입 명부 만들기\n",
        "vip_names = ['Newton', 'kepler', 'Euler', 'Galileo']\n",
        "room1_list = ['Newton']\n",
        "room2_list = ['Euler', 'Galileo']\n",
        "\n",
        "# 방에 있는 사람을 모두 출력하시오\n",
        "print(set(room1_list) | set(room2_list))\n",
        "\n",
        "# 오지 않은 사람을 출력하시오\n",
        "print(set(vip_names) - (set(room1_list) | set(room2_list)))"
      ],
      "metadata": {
        "colab": {
          "base_uri": "https://localhost:8080/"
        },
        "id": "OfOhBN2KM9xN",
        "outputId": "36408526-14f6-4e98-8bed-6fc17c280362"
      },
      "execution_count": 62,
      "outputs": [
        {
          "output_type": "stream",
          "name": "stdout",
          "text": [
            "{'Euler', 'Galileo', 'Newton'}\n",
            "{'kepler'}\n"
          ]
        }
      ]
    },
    {
      "cell_type": "code",
      "source": [],
      "metadata": {
        "id": "utsYNOn7M9zo"
      },
      "execution_count": null,
      "outputs": []
    }
  ]
}
