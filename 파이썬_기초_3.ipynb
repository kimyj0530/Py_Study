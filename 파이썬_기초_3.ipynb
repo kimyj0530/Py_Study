{
  "nbformat": 4,
  "nbformat_minor": 0,
  "metadata": {
    "colab": {
      "provenance": []
    },
    "kernelspec": {
      "name": "python3",
      "display_name": "Python 3"
    },
    "language_info": {
      "name": "python"
    }
  },
  "cells": [
    {
      "cell_type": "markdown",
      "source": [
        "# 컬렉션 데이터 활용\n",
        "* 컬렉션 데이터 모든 요소에 접근\n",
        "* for 요소변수 in 컬렉션명:\n",
        "* zip()함수 : 동일한 개수로 이루어진 자료형을 묶어 주는 역할을 하는 함수"
      ],
      "metadata": {
        "id": "hT_O6LH3CP9Q"
      }
    },
    {
      "cell_type": "code",
      "execution_count": null,
      "metadata": {
        "id": "ac97KF9IBqGL",
        "colab": {
          "base_uri": "https://localhost:8080/"
        },
        "outputId": "ceeefcd4-b734-4483-af8f-b6cda3e0188d"
      },
      "outputs": [
        {
          "output_type": "stream",
          "name": "stdout",
          "text": [
            "10 50 30 \n",
            "a b c "
          ]
        }
      ],
      "source": [
        "# 컬렉션 요소 접근\n",
        "lst = [10, 50, 30]\n",
        "tp=('a', 'b', 'c')\n",
        "\n",
        "for item in lst:\n",
        "  print(item, end=' ')\n",
        "print()\n",
        "for item in tp:\n",
        "  print(item, end=' ')"
      ]
    },
    {
      "cell_type": "code",
      "source": [
        "# 딕션너리 만들기 : dict()함수와 zip()함수 이용\n",
        "dt = dict(zip(tp, lst))\n",
        "print(dt)\n",
        "for item in dt:\n",
        "  print(f'{item}:{dt[item]}')"
      ],
      "metadata": {
        "colab": {
          "base_uri": "https://localhost:8080/"
        },
        "id": "0Ccn6076DCKP",
        "outputId": "5377b5ec-8939-4ed1-ca5e-a6de586ce488"
      },
      "execution_count": null,
      "outputs": [
        {
          "output_type": "stream",
          "name": "stdout",
          "text": [
            "{'a': 10, 'b': 50, 'c': 30}\n",
            "a:10\n",
            "b:50\n",
            "c:30\n"
          ]
        }
      ]
    },
    {
      "cell_type": "markdown",
      "source": [
        "# 내장함수\n",
        "* len(컬렉션명) : 컬렉션 요소 개수\n",
        "* max(컬렉션명) : 가장 큰 요소값 반환\n",
        "  * 딕션너리인 경우는 키 값 중 가장 큰 요소 반환\n",
        "* min(컬렉션명) : 가장 작은 요소값 반환\n",
        "  * 딕션너리인 경우는 키 값 중 가장 작은 요소 반환\n",
        "* sum(컬렉션명) : 수치 요소로 이루어진 컬렉션 요소의 합\n",
        "  * 딕션너리인 경우는 키 값의 합\n",
        "* sorted(컬렉션명) : 컬렉션 요소 정력\n",
        "  * 딕션너리인 경우는 키 값을 정렬하여 키 리스트 반환"
      ],
      "metadata": {
        "id": "K80vKeHEDCSh"
      }
    },
    {
      "cell_type": "code",
      "source": [
        "# 내장함수 \n",
        "lst = [10, 50, 30]\n",
        "print(len(lst))     # 요소 개수\n",
        "print(max(lst))     # 최대값\n",
        "print(min(lst))     # 최소값\n",
        "print(sum(lst))     # 합계\n",
        "print(sorted(lst))  # 정렬\n",
        "\n",
        "lst.sort()          # 정렬\n",
        "print(lst)"
      ],
      "metadata": {
        "id": "irBvrWpiElFI",
        "colab": {
          "base_uri": "https://localhost:8080/"
        },
        "outputId": "d4493f7a-80fe-4f9e-a7d7-e1026217a5b5"
      },
      "execution_count": 6,
      "outputs": [
        {
          "output_type": "stream",
          "name": "stdout",
          "text": [
            "3\n",
            "50\n",
            "10\n",
            "90\n",
            "[10, 30, 50]\n",
            "[10, 30, 50]\n"
          ]
        }
      ]
    },
    {
      "cell_type": "markdown",
      "source": [
        "# 5) 해결문제\n"
      ],
      "metadata": {
        "id": "iZzLusB3FtbQ"
      }
    },
    {
      "cell_type": "code",
      "source": [
        "# 해결문제 1\n",
        "\n",
        "# 기상청에서 제공하는 2020년 3월 1일에서 3월 31일까지의 평균기온 정보를 참고하여 다음을 구하시오\n",
        "# - 최고 기온인 날\n",
        "# - 최저기온인 날\n",
        "# - 3월 평균기온\n",
        "\n",
        "# 부산 3월 기온\n",
        "temp = [10.8, 8.5, 8.7, 7.9, 5.1,\n",
        "        8.1, 8.2, 10.4, 11, 9.9,\n",
        "        7.8, 9.5, 11.6, 8.2, 7.7,\n",
        "        6.6, 11.1, 12.2, 12.6, 10.4,\n",
        "        13.7, 14.1, 12.6, 11.5, 13,\n",
        "        14.5, 13.7, 9.4, 10.4, 11.6, 12.9]\n",
        "\n",
        "print(max(temp))           # 최고기온\n",
        "print(min(temp))           # 최저기온\n",
        "print(sum(temp)/len(temp)) # 평균기온"
      ],
      "metadata": {
        "colab": {
          "base_uri": "https://localhost:8080/"
        },
        "id": "R1tE5mVtFLQ5",
        "outputId": "d2f97477-ea9c-4f74-b2ca-1710c6a6df72"
      },
      "execution_count": 16,
      "outputs": [
        {
          "output_type": "stream",
          "name": "stdout",
          "text": [
            "14.5\n",
            "5.1\n",
            "10.441935483870964\n"
          ]
        }
      ]
    },
    {
      "cell_type": "code",
      "source": [
        "# 해결문제 2\n",
        "\n",
        "# 다음은 2010~2019년 기온 데이터(년도, 평균, 최소, 최대)이다.\n",
        "# - 홀수년도만 출력\n",
        "# - 년도 출력하기\n",
        "# - 년도와 평균기온 딕셔너리 만들기\n",
        "# - 평균기온 최소일 때 해당년도 추출하기 예) 2012년 - 14.5도\n",
        "# - 최고기온 최대일 때 해당년도 추출하기 예) 2016년 - 19.6도\n",
        "# - 최저기온 최소일 때 해당년도 추출하기 예) 2012년 - 18.6도\n",
        "\n",
        "y     = [2010, 2011, 2012, 2013, 2014, 2015, 2016, 2017, 2018, 2019]\n",
        "yavg  = [14.9, 14.6, 14.5, 15.3, 15.1, 15.4, 15.7, 15.2, 15.1, 15.7]\n",
        "ymax  = [34.1,   33, 34.5,   35, 32.9, 33.5, 37.3, 36.2, 36.4,   35]\n",
        "ymin  = [  19, 18,8, 18.6, 19.5, 19.2, 19.5, 19.8, 19.6, 19.2, 19.8]\n",
        "\n",
        "# 홀수년도만 출력\n",
        "odd_year= []\n",
        "for i in y:\n",
        "    if i % 2 == 1:\n",
        "      odd_year.append(i)        \n",
        "print(odd_year)\n",
        "\n",
        "# 년도 출력하기\n",
        "year2 = []\n",
        "for i in y:\n",
        "  year2.append(i)\n",
        "print(year2)\n",
        "\n",
        "# 년도와 평균기온 딕셔너리 만들기\n",
        "avg_dict = {}\n",
        "for i in range(len(y)):\n",
        "    avg_dict[y[i]] = yavg[i]\n",
        "\n",
        "print(avg_dict)\n",
        "\n",
        "# 평균기온 최소일 때 해당년도 추출하기 예) 2012년 - 14.5도\n",
        "min_avg = min(yavg)\n",
        "for i in range(len(y)):\n",
        "    if yavg[i] == min_avg:\n",
        "        print(f\"{y[i]}년 - {min_avg}도\")\n",
        "\n",
        "# 최고기온 최대일 때 해당년도 추출하기 예) 2016년 - 19.6도\n",
        "max_max = max(ymax)\n",
        "for i in range(len(y)):\n",
        "    if ymax[i] == max_max:\n",
        "        print(f\"{y[i]}년 - {max_max}도\")\n",
        "\n",
        "# 최저기온 최소일 때 해당년도 추출하기 예) 2012년 - 18.6도\n",
        "min_min = min(ymin)\n",
        "for i in range(len(y)):\n",
        "    if ymin[i] == min_min:\n",
        "        print(f\"{y[i]}년 - {min_min}도\")\n"
      ],
      "metadata": {
        "colab": {
          "base_uri": "https://localhost:8080/"
        },
        "id": "9ct1kJK3JD1F",
        "outputId": "001aad03-c6df-4f59-dda6-b02a9fa57869"
      },
      "execution_count": 20,
      "outputs": [
        {
          "output_type": "stream",
          "name": "stdout",
          "text": [
            "[2011, 2013, 2015, 2017, 2019]\n",
            "[2010, 2011, 2012, 2013, 2014, 2015, 2016, 2017, 2018, 2019]\n",
            "{2010: 14.9, 2011: 14.6, 2012: 14.5, 2013: 15.3, 2014: 15.1, 2015: 15.4, 2016: 15.7, 2017: 15.2, 2018: 15.1, 2019: 15.7}\n",
            "2012년 - 14.5도\n",
            "2016년 - 37.3도\n",
            "2012년 - 8도\n"
          ]
        }
      ]
    }
  ]
}
