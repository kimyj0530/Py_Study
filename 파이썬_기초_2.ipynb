{
  "nbformat": 4,
  "nbformat_minor": 0,
  "metadata": {
    "colab": {
      "provenance": []
    },
    "kernelspec": {
      "name": "python3",
      "display_name": "Python 3"
    },
    "language_info": {
      "name": "python"
    }
  },
  "cells": [
    {
      "cell_type": "markdown",
      "source": [
        "\n",
        "\n",
        "*   len() : 문자열 길이 구하기\n",
        "*   count() : 문자의 개수 구하기\n",
        "\n",
        "*   find() : 문자가 처음 나오는 위치 반환, 없으면 -1\n",
        "\n",
        "*   index() : 문자열이 처음 나오는 위치 반환, 없으면 오류\n",
        "*   join() : 문자열 사이에 문자 삽입, 예:'삽입문자'.join(문자열)\n",
        "\n",
        "\n",
        "*   upper() : 소문자를 대문자로 변환\n",
        "*   lower() : 대문자를 소문자로 변환\n",
        "*   replace() : 문자열 바꾸기, 예:replace(원본, 변환 문자)\n",
        "\n",
        "\n",
        "*   split() : 문자열 나누기 - 인수가 없으면 공백(스페이스, 탭, 엔터 등 구분자)을 기준\n",
        "\n",
        "\n",
        "\n"
      ],
      "metadata": {
        "id": "YCoEhJPH8ADm"
      }
    },
    {
      "cell_type": "code",
      "execution_count": 1,
      "metadata": {
        "colab": {
          "base_uri": "https://localhost:8080/"
        },
        "id": "yIffn1bM78C9",
        "outputId": "cea8b8c6-3bf6-4660-a176-81171aaf89d9"
      },
      "outputs": [
        {
          "output_type": "stream",
          "name": "stdout",
          "text": [
            "12\n"
          ]
        }
      ],
      "source": [
        "#len() : 문자열 길이\n",
        "x='Hello Python'\n",
        "\n",
        "print(len(x))\n",
        "#12"
      ]
    },
    {
      "cell_type": "code",
      "source": [
        "#count() : 문자의 갯수\n",
        "x='Hello Python'\n",
        "\n",
        "print(x.count('o'))\n",
        "#2"
      ],
      "metadata": {
        "colab": {
          "base_uri": "https://localhost:8080/"
        },
        "id": "YDme2YZI9Sz2",
        "outputId": "cf4502cc-fa1e-4396-a048-261018450e2b"
      },
      "execution_count": 8,
      "outputs": [
        {
          "output_type": "stream",
          "name": "stdout",
          "text": [
            "2\n"
          ]
        }
      ]
    },
    {
      "cell_type": "code",
      "source": [
        "#find() : 문자가 첫 위치 반환  / -1 출력\n",
        "x='Hello Python'\n",
        "\n",
        "print(x.find('x'))\n",
        "#-1"
      ],
      "metadata": {
        "colab": {
          "base_uri": "https://localhost:8080/"
        },
        "id": "QnJdFROk9WiX",
        "outputId": "adaecc8f-cab9-4fc8-c8c7-3b5880a727df"
      },
      "execution_count": 9,
      "outputs": [
        {
          "output_type": "stream",
          "name": "stdout",
          "text": [
            "-1\n"
          ]
        }
      ]
    },
    {
      "cell_type": "code",
      "source": [
        "#index() : 문자열이 첫 위치 반환 / 오류\n",
        "x='Hello Python'\n",
        "\n",
        "print(x.index('o'))\n",
        "#4"
      ],
      "metadata": {
        "colab": {
          "base_uri": "https://localhost:8080/"
        },
        "id": "znKgCj1_9eQ-",
        "outputId": "189c058a-3661-4b7a-d310-faa7b4c3eb8c"
      },
      "execution_count": 11,
      "outputs": [
        {
          "output_type": "stream",
          "name": "stdout",
          "text": [
            "4\n"
          ]
        }
      ]
    },
    {
      "cell_type": "code",
      "source": [
        "#join() : 문자열 사이 문자 삽입\n",
        "x='Hello Python'\n",
        "z='-'. join(x)\n",
        "print(z)"
      ],
      "metadata": {
        "colab": {
          "base_uri": "https://localhost:8080/"
        },
        "id": "qC52zhm-91ha",
        "outputId": "ccddcb4b-d667-4533-9aa7-98197af55a42"
      },
      "execution_count": 13,
      "outputs": [
        {
          "output_type": "stream",
          "name": "stdout",
          "text": [
            "H-e-l-l-o- -P-y-t-h-o-n\n"
          ]
        }
      ]
    },
    {
      "cell_type": "code",
      "source": [
        "#upper() : 소문자를 대문자로\n",
        "x='Hello Python'\n",
        "\n",
        "print(x.upper())"
      ],
      "metadata": {
        "colab": {
          "base_uri": "https://localhost:8080/"
        },
        "id": "X2uqElev96lC",
        "outputId": "6c740489-c47f-42ba-e308-2ba3404fa0bf"
      },
      "execution_count": 14,
      "outputs": [
        {
          "output_type": "stream",
          "name": "stdout",
          "text": [
            "HELLO PYTHON\n"
          ]
        }
      ]
    },
    {
      "cell_type": "code",
      "source": [
        "#lower() : 대문자를 소문자로\n",
        "x='Hello Python'\n",
        "\n",
        "print(x.lower())"
      ],
      "metadata": {
        "colab": {
          "base_uri": "https://localhost:8080/"
        },
        "id": "w7uOMfa299Gg",
        "outputId": "cccc83e1-1699-43d2-b397-6987f0afb931"
      },
      "execution_count": 15,
      "outputs": [
        {
          "output_type": "stream",
          "name": "stdout",
          "text": [
            "hello python\n"
          ]
        }
      ]
    },
    {
      "cell_type": "code",
      "source": [
        "#replace() : 문자열 바꾸기\n",
        "x='Hello Python'\n",
        "print(x.replace('P', '&'))\n",
        "\n",
        "#Hello &ython"
      ],
      "metadata": {
        "colab": {
          "base_uri": "https://localhost:8080/"
        },
        "id": "q6Olu94l-BNi",
        "outputId": "520c2fb8-1921-42b0-febc-038a0a14b1e7"
      },
      "execution_count": 16,
      "outputs": [
        {
          "output_type": "stream",
          "name": "stdout",
          "text": [
            "Hello &ython\n"
          ]
        }
      ]
    },
    {
      "cell_type": "code",
      "source": [
        "#split() : 문자열 나누기\n",
        "x='Hello Python'\n",
        "\n",
        "print(x.split(' '))"
      ],
      "metadata": {
        "colab": {
          "base_uri": "https://localhost:8080/"
        },
        "id": "h8GY2-M0-EP-",
        "outputId": "ef31dbe4-2f0b-4f87-e24a-a3bb7e2e0d58"
      },
      "execution_count": 17,
      "outputs": [
        {
          "output_type": "stream",
          "name": "stdout",
          "text": [
            "['Hello', 'Python']\n"
          ]
        }
      ]
    },
    {
      "cell_type": "code",
      "source": [
        "# 코로나 어원\n",
        "\n",
        "corona = '''중국 우한에서 발생한 폐렴은 신종 코로나 바이러스인 ‘2019-nCoV' 가 원인으로 알려졌습니다. 이 신종 바이러스는 2019년 말 처음 인체 감염이 확인됐다는 의미에서 '코로나-19'로 명명되었습니다. 지금까지 코로나 바이러스는 단 여섯 종만이 사람에게 감염되는 것으로 알려져 있었으나 이번 중국 우한에서 발생한 바이러스는 알려진 코로나 바이러스와는 성질이 달라 신종 코로나 바이러스로 분류됐습니다.'''\n",
        "print(corona.count('.'))\n",
        "a = input()\n",
        "print(corona.find(a))"
      ],
      "metadata": {
        "colab": {
          "base_uri": "https://localhost:8080/"
        },
        "id": "GCTsCm5EA1YU",
        "outputId": "36fb3199-fcf2-470a-840e-490fd3cd911e"
      },
      "execution_count": 30,
      "outputs": [
        {
          "output_type": "stream",
          "name": "stdout",
          "text": [
            "3\n",
            "코\n",
            "19\n"
          ]
        }
      ]
    },
    {
      "cell_type": "code",
      "source": [
        "# 지코의 아무노래 가사\n",
        "song = '''\n",
        "왜들 그리 다운돼있어? 뭐가 문제야 say something\n",
        "분위기가 겁나 싸해 요새는 이런 게 유행인가\n",
        "왜들 그리 재미없어? 아 그건 나도 마찬가지\n",
        "Tell me what I got to do 급한 대로 블루투스 켜\n",
        "아무 노래나 일단 틀어 아무거나 신나는 걸로\n",
        "아무렇게나 춤춰 아무렇지 않아 보이게\n",
        "아무 생각 하기 싫어 아무개로 살래 잠시\n",
        "I'm sick and tired of my every day, keep it up 한 곡 더\n",
        "아무 노래나 일단 틀어 아무렴 어때 it's so boring\n",
        "아무래도 refresh가 시급한 듯해 쌓여가 스트레스가\n",
        "배꼽 빠질 만큼만 폭소하고 싶은 날이야\n",
        "What up my dawgs? 어디야 너희 올 때 병맥주랑 까까 몇 개 사 와 uh\n",
        "클럽은 구미가 잘 안 당겨 우리 집 거실로 빨랑 모여\n",
        "외부인은 요령껏 차단 시켜 밤새 수다 떨 시간도 모자라\n",
        "누군 힘들어 죽겠고 누군 축제 괜히 싱숭생숭 I want my youth back\n",
        "좀 전까지 왁자지껄 하다 한 명 두 명씩 자릴 떠\n",
        "왜들 그리 다운돼있어? 뭐가 문제야 say something\n",
        "분위기가 겁나 싸해 요새는 이런 게 유행인가\n",
        "왜들 그리 재미없어? 아 그건 나도 마찬가지\n",
        "Tell me what I got to do 급한 대로 블루투스 켜\n",
        "아무 노래나 일단 틀어 아무거나 신나는 걸로\n",
        "아무렇게나 춤춰 아무렇지 않아 보이게\n",
        "아무 생각 하기 싫어 아무개로 살래 잠시\n",
        "I'm sick and tired of my every day, keep it up 한 곡 더\n",
        "떠나질 못할 바엔\n",
        "창밖은 쳐다도 안 봐\n",
        "회까닥해서 추태를 부려도\n",
        "No worries at all 이미지 왜 챙겨 그래 봤자 우리끼린데\n",
        "Ooh 늦기 전에 막판 스퍼트 20대가 얼마 안 남았어\n",
        "편한 옷으로 갈아입어 you look nice, get 'em high\n",
        "얼핏 보면 그냥 코미디 이렇게 무해한 파티 처음이지?\n",
        "만감이 교차하는 새벽 2시경 술잔과 감정이 소용돌이쳐\n",
        "왜들 그리 다운돼있어? 뭐가 문제야 say something\n",
        "분위기가 겁나 싸해 요새는 이런 게 유행인가\n",
        "왜들 그리 재미없어? 아 그건 나도 마찬가지\n",
        "Tell me what I got to do 급한 대로 블루투스 켜\n",
        "아무 노래나 일단 틀어 아무거나 신나는 걸로\n",
        "아무렇게나 춤춰 아무렇지 않아 보이게\n",
        "아무 생각 하기 싫어 아무개로 살래 잠시\n",
        "I'm sick and tired of my every day, keep it up 한 곡 더\n",
        "아무 노래나 일단\n",
        "La-la-la, la-la-la, la-la-la-la\n",
        "La-la-la, la-la-la, la-la-la-la (You ain't gonna get a day like this)\n",
        "아무 노래 아무 노래 아무 노래나 틀어봐\n",
        "아무 노래 아무 노래 아무 노래나 틀어봐 (Yeah)\n",
        "아무 노래 (ooh) 아무 노래 아무 노래나 틀어봐\n",
        "아무 노래 아무 노래 아무 노래나 KOZ\n",
        "'''\n",
        "print(song.find('아무 노래'))"
      ],
      "metadata": {
        "colab": {
          "base_uri": "https://localhost:8080/"
        },
        "id": "eIyW-cc7Bjz1",
        "outputId": "87fcc552-54c2-482a-d811-09181f339a0a"
      },
      "execution_count": 32,
      "outputs": [
        {
          "output_type": "stream",
          "name": "stdout",
          "text": [
            "123\n"
          ]
        }
      ]
    },
    {
      "cell_type": "code",
      "source": [],
      "metadata": {
        "id": "SmtvO29DCQhr"
      },
      "execution_count": null,
      "outputs": []
    },
    {
      "cell_type": "markdown",
      "source": [
        "*  인덱싱\n",
        "  *  요소의 선택은 0부터 시작되는 인덱스로 접근\n",
        "  *  리스트명[인덱스]\n",
        "*  슬라이싱\n",
        "  *  요소의 일부분 선택\n",
        "  * 리스트명[시작인덱스:종료인덱스]\n",
        "  * 종료 인덱스는 포함되지 않음\n",
        "* 연산\n",
        "  * +연산 : 리스트와 리스트 연결\n",
        "  * *연산 : 리스트 요소 반복\n",
        "* 추가\n",
        "  * 리스트명.append(추가요소):마지막에 추가\n",
        "  * 리스트명.insert(인덱스,추가요소):해당 인덱스에 요소 추가\n",
        "* 삭제\n",
        "  * 리스트명.pop():마지막 요소 삭제\n",
        "  * 리스트명.pop(인덱스):해당 인덱스 요소 삭제\n",
        "  * 리스트명.remove(요소값):해당 요소값 삭제, 해당 값이 없으면 오류\n",
        "* 수정\n",
        "  * 리스트명[인덱스] = 변경값\n",
        "* 위치 반환\n",
        "  * 리스트명.index(요소값)\n",
        "  * 해당 요소값의 위치를 반환\n",
        "  * 여러 개 요소가 존재하면 첫 번째 위치 반환하고 업승면 오류\n",
        "* 요소 개수 구하기\n",
        "  * 리스트명.count(요소값)\n",
        "* 정렬\n",
        "  * 리스트명.sort():오름차순\n",
        "  * 리스트명.sort(reverse=True):내림차순\n",
        "* 뒤집기\n",
        "  * 리스트명.reverse():요소를 역순으로 뒤집어 줌"
      ],
      "metadata": {
        "id": "NcxBYV8rGYuO"
      }
    },
    {
      "cell_type": "code",
      "source": [
        "# 리스트 생성 : [] or list()\n",
        "my_list1=[]\n",
        "print(type(my_list1))\n",
        "\n",
        "my_list2=()\n",
        "print(type(my_list2))\n",
        "\n",
        "my_list3=[10, 20, 30]\n",
        "print(type(my_list3))\n",
        "print(my_list3)"
      ],
      "metadata": {
        "colab": {
          "base_uri": "https://localhost:8080/"
        },
        "id": "8hBBlfGHLHI7",
        "outputId": "208e220c-b5a1-498f-c4c9-bc8bef4df67a"
      },
      "execution_count": 33,
      "outputs": [
        {
          "output_type": "stream",
          "name": "stdout",
          "text": [
            "<class 'list'>\n",
            "<class 'tuple'>\n",
            "<class 'list'>\n",
            "[10, 20, 30]\n"
          ]
        }
      ]
    },
    {
      "cell_type": "code",
      "source": [
        "# 인덱싱 : 요소는 인덱스로 접근(0부터 시작)\n",
        "my_list=[10, 20, 30]\n",
        "print(my_list[0])\n",
        "print(my_list[1])\n",
        "print(my_list[2])\n",
        "print(my_list[-1])"
      ],
      "metadata": {
        "colab": {
          "base_uri": "https://localhost:8080/"
        },
        "id": "vhGYSv8oLiS4",
        "outputId": "90fd043e-ec45-441c-b1c7-d38cd8cdbffd"
      },
      "execution_count": 35,
      "outputs": [
        {
          "output_type": "stream",
          "name": "stdout",
          "text": [
            "10\n",
            "20\n",
            "30\n",
            "30\n"
          ]
        }
      ]
    },
    {
      "cell_type": "code",
      "source": [
        "# 슬라이싱 : 요소의 일부분 선택\n",
        "my_list=[10, 20, 30]\n",
        "print(my_list[0:len(my_list):1])\n",
        "print(my_list[::])\n",
        "print(my_list[:2:1])\n",
        "print(my_list[-1::-1]) # 역순\n",
        "print(my_list[2::2]) # 짝수"
      ],
      "metadata": {
        "colab": {
          "base_uri": "https://localhost:8080/"
        },
        "id": "KkkUmBy-Ln8v",
        "outputId": "1d8e74c4-1273-4ebc-8cfc-c37ede02e73f"
      },
      "execution_count": 39,
      "outputs": [
        {
          "output_type": "stream",
          "name": "stdout",
          "text": [
            "[10, 20, 30]\n",
            "[10, 20, 30]\n",
            "[10, 20]\n",
            "[30, 20, 10]\n",
            "[30]\n"
          ]
        }
      ]
    },
    {
      "cell_type": "code",
      "source": [
        "# 리스트의 연산\n",
        "a= 1+2\n",
        "print(a)\n",
        "my_list=[10,20]\n",
        "my_list2=[100,200]\n",
        "\n",
        "my_list3=my_list+my_list2\n",
        "print(my_list3)"
      ],
      "metadata": {
        "colab": {
          "base_uri": "https://localhost:8080/"
        },
        "id": "XW6fMv9mLre9",
        "outputId": "7c073674-f2ea-4719-990a-64fdee09e60b"
      },
      "execution_count": 41,
      "outputs": [
        {
          "output_type": "stream",
          "name": "stdout",
          "text": [
            "3\n",
            "[10, 20, 100, 200]\n"
          ]
        }
      ]
    },
    {
      "cell_type": "code",
      "source": [
        "# 리스트의 추가\n",
        "# 리스트명.append(추가요소):마지막에 추가\n",
        "# 리스트명.insert(인덱스,추가요소):해당 인덱스에 요소 추가\n",
        "\n",
        "my_list=['a', 'b', 'c']\n",
        "my_list.append('d')\n",
        "print(my_list)\n",
        "\n",
        "my_list.insert(0, 'z')\n",
        "print(my_list)\n",
        "\n",
        "my_list.insert(7, 'q')\n",
        "print(my_list)"
      ],
      "metadata": {
        "colab": {
          "base_uri": "https://localhost:8080/"
        },
        "id": "3SozUPmYMk5D",
        "outputId": "863d35be-6b89-4354-e778-ed5522fdb1e1"
      },
      "execution_count": 47,
      "outputs": [
        {
          "output_type": "stream",
          "name": "stdout",
          "text": [
            "['a', 'b', 'c', 'd']\n",
            "['z', 'a', 'b', 'c', 'd']\n",
            "['z', 'a', 'b', 'c', 'd', 'q']\n"
          ]
        }
      ]
    },
    {
      "cell_type": "code",
      "source": [
        "# 리스트의 삭제\n",
        "# 리스트명.pop():마지막 요소 삭제\n",
        "# 리스트명.pop(인덱스):해당 인덱스 요소 삭제\n",
        "# 리스트명.remove(요소값):해당 요소값 삭제, 해당 값이 없으면 오류\n",
        "my_list=['a', 'b', 'c']\n",
        "print(my_list)\n",
        "\n",
        "my_list.pop()\n",
        "my_list.pop(0)\n",
        "my_list.remove('b')\n",
        "print(my_list)\n"
      ],
      "metadata": {
        "colab": {
          "base_uri": "https://localhost:8080/"
        },
        "id": "JSCysOSOMvSL",
        "outputId": "a20746b5-d8b3-4945-e9b5-001a0b5700c3"
      },
      "execution_count": 50,
      "outputs": [
        {
          "output_type": "stream",
          "name": "stdout",
          "text": [
            "['a', 'b', 'c']\n",
            "[]\n"
          ]
        }
      ]
    },
    {
      "cell_type": "code",
      "source": [
        "# 리스트 수정\n",
        "# 리스트명[인덱스] = 변경값값\n",
        "my_list=['a', 'b', 'c']\n",
        "my_list[0] = 'e'\n",
        "my_list[my_list.index('b')]='bb'\n",
        "\n",
        "print(my_list)"
      ],
      "metadata": {
        "colab": {
          "base_uri": "https://localhost:8080/"
        },
        "id": "ReH5r8DjNBIR",
        "outputId": "eef7ec0c-0903-483f-eeda-63906de8c3f1"
      },
      "execution_count": 52,
      "outputs": [
        {
          "output_type": "stream",
          "name": "stdout",
          "text": [
            "['e', 'bb', 'c']\n"
          ]
        }
      ]
    },
    {
      "cell_type": "code",
      "source": [
        "# 리스트 위치 반환\n",
        "# 리스트명.index(요소값) : 해당 요소값의 위치를 반환, 없으면 오류류"
      ],
      "metadata": {
        "id": "fth5m1fERfvc"
      },
      "execution_count": null,
      "outputs": []
    },
    {
      "cell_type": "code",
      "source": [
        "# 리스트 요소 개수 구하기\n",
        "# 리스트명.count(요소값)\n",
        "my_list=['a', 'b', 'c']\n",
        "print(my_list.count('a'))"
      ],
      "metadata": {
        "colab": {
          "base_uri": "https://localhost:8080/"
        },
        "id": "2N34lxcESLID",
        "outputId": "6a80b19c-45eb-4cf3-8c15-1d050a738703"
      },
      "execution_count": 53,
      "outputs": [
        {
          "output_type": "stream",
          "name": "stdout",
          "text": [
            "1\n"
          ]
        }
      ]
    },
    {
      "cell_type": "code",
      "source": [
        "# 리스트 정렬\n",
        "# 리스트명.sort() : 오름차순 정렬\n",
        "# 리스트명.sort(reverse=True):내림차순\n",
        "\n",
        "my_list=['c', 'a', 'b']\n",
        "my_list.sort()\n",
        "print(my_list) # 오름차순\n",
        "my_list.sort(reverse=True)\n",
        "print(my_list) # 내림림차순"
      ],
      "metadata": {
        "colab": {
          "base_uri": "https://localhost:8080/"
        },
        "id": "1kTZ-I15SY_4",
        "outputId": "535e6480-6a62-4ccc-dc61-e2799008e731"
      },
      "execution_count": 56,
      "outputs": [
        {
          "output_type": "stream",
          "name": "stdout",
          "text": [
            "['a', 'b', 'c']\n",
            "['c', 'b', 'a']\n"
          ]
        }
      ]
    },
    {
      "cell_type": "code",
      "source": [
        "# 리스트 뒤집기\n",
        "# 리스트명.reverse():요소를 역순으로 뒤집어 줌\n",
        "my_list=['a', 'b', 'c']\n",
        "my_list.reverse()\n",
        "print(my_list)          #역순\n",
        "print(my_list[-1::-1])  #역순"
      ],
      "metadata": {
        "colab": {
          "base_uri": "https://localhost:8080/"
        },
        "id": "u25JOxavSjxR",
        "outputId": "81fcf517-bafb-46e6-c713-63d5832c0ea2"
      },
      "execution_count": 60,
      "outputs": [
        {
          "output_type": "stream",
          "name": "stdout",
          "text": [
            "['c', 'b', 'a']\n",
            "['a', 'b', 'c']\n"
          ]
        }
      ]
    }
  ]
}