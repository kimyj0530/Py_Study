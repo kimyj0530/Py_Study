{
  "nbformat": 4,
  "nbformat_minor": 0,
  "metadata": {
    "colab": {
      "provenance": []
    },
    "kernelspec": {
      "name": "python3",
      "display_name": "Python 3"
    },
    "language_info": {
      "name": "python"
    }
  },
  "cells": [
    {
      "cell_type": "markdown",
      "source": [
        "# 1. 출력과 입력 그리고 변수\n",
        "\n"
      ],
      "metadata": {
        "id": "-eiHKzpO5N3U"
      }
    },
    {
      "cell_type": "code",
      "execution_count": null,
      "metadata": {
        "colab": {
          "base_uri": "https://localhost:8080/"
        },
        "id": "_4CDI4Wk5Kc8",
        "outputId": "11bff4b1-b7f0-4809-a217-7b4853a11971"
      },
      "outputs": [
        {
          "output_type": "stream",
          "name": "stdout",
          "text": [
            "40\n",
            "hello world\n",
            "hello world\n",
            "helloworld\n"
          ]
        }
      ],
      "source": [
        "# 출력 : print() 함수로 출력하기\n",
        "print(20*2)\n",
        "print('hello world')\n",
        "print('hello', 'world')\n",
        "print('hello'+'world')"
      ]
    },
    {
      "cell_type": "code",
      "source": [
        "# 변수\n",
        "a = 'hello world'\n",
        "print(type(a))\n",
        "print(a)\n",
        "\n",
        "b = 2\n",
        "print(type(b))\n",
        "print(b)"
      ],
      "metadata": {
        "colab": {
          "base_uri": "https://localhost:8080/"
        },
        "id": "u9zfVLpD524E",
        "outputId": "f84148d2-8f7a-4a03-a4ce-4fd12ff200ee"
      },
      "execution_count": null,
      "outputs": [
        {
          "output_type": "stream",
          "name": "stdout",
          "text": [
            "<class 'str'>\n",
            "hello world\n",
            "<class 'int'>\n",
            "2\n"
          ]
        }
      ]
    },
    {
      "cell_type": "code",
      "source": [
        "# 입력 : input() 함수로 문자열 값 입력받기기\n",
        "name = input()\n",
        "print(name +'님! 안녕하세요')\n",
        "print(name, '님! 안녕하세요')\n",
        "print(f'{name}님! 안녕하세요')\n",
        "\n",
        "name = '{}님! 안녕하세요'\n",
        "print(name.format('김영준'))"
      ],
      "metadata": {
        "colab": {
          "base_uri": "https://localhost:8080/"
        },
        "id": "8jXD-QMY6ta7",
        "outputId": "8bebe8c6-8ee8-4572-9953-be6ef4d496cd"
      },
      "execution_count": null,
      "outputs": [
        {
          "output_type": "stream",
          "name": "stdout",
          "text": [
            "\n",
            "님! 안녕하세요\n",
            " 님! 안녕하세요\n",
            "님! 안녕하세요\n",
            "김영준님! 안녕하세요\n"
          ]
        }
      ]
    },
    {
      "cell_type": "code",
      "source": [
        "# 입력 : 개선\n",
        "age = input('나이를 입력해 주세요: ')\n",
        "print(type(age))\n",
        "print(age-1)"
      ],
      "metadata": {
        "colab": {
          "base_uri": "https://localhost:8080/"
        },
        "id": "KZqwJSAp7vdT",
        "outputId": "ca467072-cdba-4234-8956-69d65c9c47cf"
      },
      "execution_count": null,
      "outputs": [
        {
          "output_type": "stream",
          "name": "stdout",
          "text": [
            "나이를 입력해 주세요: 18\n",
            "<class 'int'>\n",
            "17\n"
          ]
        }
      ]
    },
    {
      "cell_type": "code",
      "source": [
        "# 입력 : 숫자 입력 경우\n",
        "age = int(input('나이를 입력해 주세요: '))\n",
        "print(type(age))\n",
        "print(age-1)"
      ],
      "metadata": {
        "colab": {
          "base_uri": "https://localhost:8080/"
        },
        "id": "jVxDcdY28QgI",
        "outputId": "7076677e-50db-4440-f6b2-2d006c9e181a"
      },
      "execution_count": null,
      "outputs": [
        {
          "output_type": "stream",
          "name": "stdout",
          "text": [
            "나이를 입력해 주세요: 18\n",
            "<class 'int'>\n",
            "17\n"
          ]
        }
      ]
    },
    {
      "cell_type": "code",
      "source": [
        "# 산술 연산자\n",
        "print(10*2) # 20\n",
        "print(10**2) # 100\n",
        "print(10%2) #0\n",
        "print(7/2) #3.5\n",
        "print(7//2) # 3"
      ],
      "metadata": {
        "colab": {
          "base_uri": "https://localhost:8080/"
        },
        "id": "D5FNjrNb8bRz",
        "outputId": "5926ee11-aea8-4865-e035-5bea7cfa07fa"
      },
      "execution_count": null,
      "outputs": [
        {
          "output_type": "stream",
          "name": "stdout",
          "text": [
            "20\n",
            "100\n",
            "0\n",
            "3.5\n",
            "3\n"
          ]
        }
      ]
    },
    {
      "cell_type": "code",
      "source": [
        "# 비교 연산자 (참: True, 거짓: False)\n",
        "print(10>=2)\n",
        "print(10<=2)\n",
        "print(10==2)\n",
        "print(10!=2)\n",
        "print(10)"
      ],
      "metadata": {
        "colab": {
          "base_uri": "https://localhost:8080/"
        },
        "id": "EebV_X1J8uJm",
        "outputId": "2a74bb68-23ae-4927-9216-dbcaf09dcfdd"
      },
      "execution_count": null,
      "outputs": [
        {
          "output_type": "stream",
          "name": "stdout",
          "text": [
            "True\n",
            "False\n",
            "False\n",
            "True\n"
          ]
        }
      ]
    },
    {
      "cell_type": "code",
      "source": [
        "# 논리 연산자 (참: True, 거짓: False)\n",
        "# and(둘 다 참일때 True), or(둘 중 하나만 참일 떄 True), not(반전) 연산자\n",
        "\n",
        "# and 연산자\n",
        "print(1==1 and 2!=1)        # True\n",
        "print(10%2 !=0 and 1+1 > 0) # False\n",
        "print()                     \n",
        "\n",
        "# or 연산자     \n",
        "print(10<5 or 10==5)        # False\n",
        "print(10%2 != 0 or 1+1 > 0) # True\n",
        "print()                     \n",
        "\n",
        "# not 연산자\n",
        "print(not 10>5)             # False\n",
        "print(not 10==5)            # True\n",
        "print(not 0)                # True\n",
        "print(not 10)               # False"
      ],
      "metadata": {
        "colab": {
          "base_uri": "https://localhost:8080/"
        },
        "id": "ZBgk2Fue81OV",
        "outputId": "81874c51-79e8-406c-a9d3-96d4c3b24510"
      },
      "execution_count": null,
      "outputs": [
        {
          "output_type": "stream",
          "name": "stdout",
          "text": [
            "True\n",
            "False\n",
            "\n",
            "False\n",
            "True\n",
            "\n",
            "False\n",
            "True\n",
            "True\n",
            "False\n"
          ]
        }
      ]
    },
    {
      "cell_type": "code",
      "source": [
        "# random 라이브러리 사용\n",
        "\n",
        "import random\n",
        "dice = random.randint(1,6)\n",
        "print(dice)"
      ],
      "metadata": {
        "colab": {
          "base_uri": "https://localhost:8080/"
        },
        "id": "ensfPAPyACdV",
        "outputId": "ad4a3025-3a01-46ff-cf80-4daaba2899b6"
      },
      "execution_count": null,
      "outputs": [
        {
          "output_type": "stream",
          "name": "stdout",
          "text": [
            "5\n"
          ]
        }
      ]
    },
    {
      "cell_type": "code",
      "source": [
        "# for 반복문\n",
        "name = '소마고'\n",
        "\n",
        "for i in name:\n",
        "  print(i, end='')"
      ],
      "metadata": {
        "colab": {
          "base_uri": "https://localhost:8080/"
        },
        "id": "1RsiEC5uAlBw",
        "outputId": "555b43fd-1e41-4383-f8d5-155f239995f0"
      },
      "execution_count": null,
      "outputs": [
        {
          "output_type": "stream",
          "name": "stdout",
          "text": [
            "소마고"
          ]
        }
      ]
    },
    {
      "cell_type": "code",
      "source": [
        "for i in [0, 1, 2, 3]:\n",
        "  print(i**2, end=' ')"
      ],
      "metadata": {
        "colab": {
          "base_uri": "https://localhost:8080/"
        },
        "id": "9BTR5_zoCCiB",
        "outputId": "a0df6851-5be8-4404-9d0e-822d08cc8739"
      },
      "execution_count": null,
      "outputs": [
        {
          "output_type": "stream",
          "name": "stdout",
          "text": [
            "0 1 4 9 "
          ]
        }
      ]
    },
    {
      "cell_type": "code",
      "source": [
        "for i in range(10):\n",
        "  print(i)\n",
        "\n",
        "print(type(range(10)))\n",
        "# range(0,10)\n",
        "# range(0,10,1)"
      ],
      "metadata": {
        "colab": {
          "base_uri": "https://localhost:8080/"
        },
        "id": "JwwJ-n69CPzg",
        "outputId": "6cebcf5c-3fa5-440f-8f5a-52ed0c48d96a"
      },
      "execution_count": null,
      "outputs": [
        {
          "output_type": "stream",
          "name": "stdout",
          "text": [
            "0\n",
            "1\n",
            "2\n",
            "3\n",
            "4\n",
            "5\n",
            "6\n",
            "7\n",
            "8\n",
            "9\n",
            "<class 'range'>\n"
          ]
        }
      ]
    },
    {
      "cell_type": "code",
      "source": [
        "for i in range(0,10,1):\n",
        "  print(i, end=' ')\n",
        "print()\n",
        "for i in range(10, -1, -1):\n",
        "  print(i, end=' ')\n",
        "print()\n",
        "for i in range(0, 10, 2):\n",
        "  print(i, end=' ')"
      ],
      "metadata": {
        "colab": {
          "base_uri": "https://localhost:8080/"
        },
        "id": "uBHtiHJcInF8",
        "outputId": "e6c3590e-a19c-4754-966f-a292a714a38c"
      },
      "execution_count": null,
      "outputs": [
        {
          "output_type": "stream",
          "name": "stdout",
          "text": [
            "0 1 2 3 4 5 6 7 8 9 \n",
            "10 9 8 7 6 5 4 3 2 1 0 \n",
            "0 2 4 6 8 "
          ]
        }
      ]
    },
    {
      "cell_type": "code",
      "source": [
        "# if 조건문"
      ],
      "metadata": {
        "id": "sY-ZPmKGJMtt"
      },
      "execution_count": null,
      "outputs": []
    },
    {
      "cell_type": "code",
      "source": [
        "# 기본 예\n",
        "if True:\n",
        "  print(1)\n",
        "\n",
        "if 1==1 and 2!=1:\n",
        "  print(2)"
      ],
      "metadata": {
        "colab": {
          "base_uri": "https://localhost:8080/"
        },
        "id": "17p7nhF0JUee",
        "outputId": "3adc7c1c-a6e7-45b7-b2b4-1b80597e02d2"
      },
      "execution_count": null,
      "outputs": [
        {
          "output_type": "stream",
          "name": "stdout",
          "text": [
            "1\n",
            "2\n"
          ]
        }
      ]
    },
    {
      "cell_type": "code",
      "source": [
        "# 비밀번호 확인\n",
        "passwd = int(input('비밀번호 4자리를 입력하세요: '))\n",
        "if passwd == 2022:\n",
        "  print('비밀번호가 일치합니다.')\n",
        "else:\n",
        "  print('비밀번호가 일치하지 않습니다.')"
      ],
      "metadata": {
        "colab": {
          "base_uri": "https://localhost:8080/"
        },
        "id": "hgs4cjkHJse_",
        "outputId": "e71f81af-8128-4c6a-8ac0-231aaf4e3ab9"
      },
      "execution_count": null,
      "outputs": [
        {
          "output_type": "stream",
          "name": "stdout",
          "text": [
            "비밀번호 4자리를 입력하세요: 2022\n",
            "비밀번호가 일치합니다.\n"
          ]
        }
      ]
    },
    {
      "cell_type": "code",
      "source": [
        "# 비밀번호 해킹 프로그램 (for문과 if문의 융합)\n",
        "for i in range(1, 10000):\n",
        "  if i == 2022:\n",
        "    print('비밀번호가 일치합니다.')\n",
        "    print(f'비밀번호는 {i}입니다.')"
      ],
      "metadata": {
        "colab": {
          "base_uri": "https://localhost:8080/"
        },
        "id": "dTkRcUNHJ_cl",
        "outputId": "6b2b901e-9cec-44fd-8af7-4e27d89d52bf"
      },
      "execution_count": null,
      "outputs": [
        {
          "output_type": "stream",
          "name": "stdout",
          "text": [
            "비밀번호가 일치합니다.\n",
            "비밀번호는 2022입니다.\n"
          ]
        }
      ]
    },
    {
      "cell_type": "code",
      "source": [
        "# 심리게임 프로그램\n",
        "print('[소림끼치도록 놀라운 심리테스트]')\n",
        "\n",
        "menu = input('당신이 좋아하는 음식을 입력해주세요: ')\n",
        "\n",
        "if menu == '짜장면':\n",
        "  print('당신은 집에 가고 싶은 사람입니다.')\n",
        "elif menu == '박정빈':\n",
        "  print('당신은 집에 가고 싶은 사람입니다.')"
      ],
      "metadata": {
        "colab": {
          "base_uri": "https://localhost:8080/"
        },
        "id": "df7qyS1RLfyL",
        "outputId": "e1fcdee6-0526-4ee1-9f51-3b3512735365"
      },
      "execution_count": null,
      "outputs": [
        {
          "name": "stdout",
          "output_type": "stream",
          "text": [
            "[소림끼치도록 놀라운 심리테스트]\n",
            "당신이 좋아하는 음식을 입력해주세요: ㅇ\n"
          ]
        }
      ]
    },
    {
      "cell_type": "code",
      "source": [
        "num = int(input('숫자: ')) # 1~10\n",
        "\n",
        "if num >= 9:\n",
        "  print('A')\n",
        "elif num >= 6:\n",
        "  print('B')\n",
        "elif num >= 4:\n",
        "  print('C')\n",
        "else:\n",
        "  print('D')"
      ],
      "metadata": {
        "colab": {
          "base_uri": "https://localhost:8080/"
        },
        "id": "K9tolKZiPIJ2",
        "outputId": "03b472f9-9a1a-42ec-c93d-6073e5817040"
      },
      "execution_count": null,
      "outputs": [
        {
          "output_type": "stream",
          "name": "stdout",
          "text": [
            "숫자: 9\n",
            "A\n"
          ]
        }
      ]
    }
  ]
}