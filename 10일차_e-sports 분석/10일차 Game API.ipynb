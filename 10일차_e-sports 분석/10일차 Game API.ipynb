{
 "cells": [
  {
   "cell_type": "markdown",
   "id": "5b0fe6b2",
   "metadata": {},
   "source": [
    "# Web scraping"
   ]
  },
  {
   "cell_type": "markdown",
   "id": "0971ad18",
   "metadata": {},
   "source": [
    "* 웹을 통해 자동으로 데이터를 수집하는 프로그램\n",
    "    * 간편하게 데이터 수집 가능\n",
    "    * 마크업 언어로 작성된 문서에서 필요한 정보만을 수집\n",
    "    * Waeb crawling과 혼용되어 사용되지만 다소 차이가 존재\n",
    "        * Crawling: 검색 결과로 유사한 정보의 데이터(=웹 페이지)를 모으는 것\n",
    "        * Scraping: 웹 페이지에서 특정 데이터를 모으는 것"
   ]
  },
  {
   "cell_type": "markdown",
   "id": "9f5ea5e0",
   "metadata": {},
   "source": [
    "# Getting started"
   ]
  },
  {
   "cell_type": "markdown",
   "id": "e1b9a64b",
   "metadata": {},
   "source": [
    "* 설치할 라이브러리\n",
    "    * selenium\n",
    "    * chromedriver-autoinstaller\n",
    "    * Beatiful Soup\n",
    "    * tqdm\n",
    "    * urlopen\n",
    "    * requests\n",
    "    * pprint\n",
    "        * 내장 라이브러리\n",
    "        * 가독성있는 데이터 출력"
   ]
  },
  {
   "cell_type": "markdown",
   "id": "c4c847ab",
   "metadata": {},
   "source": [
    "## Installation"
   ]
  },
  {
   "cell_type": "markdown",
   "id": "0943e2b9",
   "metadata": {},
   "source": [
    "### selenium"
   ]
  },
  {
   "cell_type": "markdown",
   "id": "ba322737",
   "metadata": {},
   "source": [
    "* 동적 페이지 읽어오기"
   ]
  },
  {
   "cell_type": "code",
   "execution_count": 1,
   "id": "e5c8fb63",
   "metadata": {},
   "outputs": [
    {
     "name": "stdout",
     "output_type": "stream",
     "text": [
      "Requirement already satisfied: selenium in c:\\users\\k0105\\anaconda3\\lib\\site-packages (4.8.0)\n",
      "Requirement already satisfied: certifi>=2021.10.8 in c:\\users\\k0105\\anaconda3\\lib\\site-packages (from selenium) (2022.9.14)\n",
      "Requirement already satisfied: trio-websocket~=0.9 in c:\\users\\k0105\\anaconda3\\lib\\site-packages (from selenium) (0.9.2)\n",
      "Requirement already satisfied: urllib3[socks]~=1.26 in c:\\users\\k0105\\anaconda3\\lib\\site-packages (from selenium) (1.26.11)\n",
      "Requirement already satisfied: trio~=0.17 in c:\\users\\k0105\\anaconda3\\lib\\site-packages (from selenium) (0.22.0)\n",
      "Requirement already satisfied: sortedcontainers in c:\\users\\k0105\\anaconda3\\lib\\site-packages (from trio~=0.17->selenium) (2.4.0)\n",
      "Requirement already satisfied: exceptiongroup>=1.0.0rc9 in c:\\users\\k0105\\anaconda3\\lib\\site-packages (from trio~=0.17->selenium) (1.1.0)\n",
      "Requirement already satisfied: cffi>=1.14 in c:\\users\\k0105\\anaconda3\\lib\\site-packages (from trio~=0.17->selenium) (1.15.1)\n",
      "Requirement already satisfied: idna in c:\\users\\k0105\\anaconda3\\lib\\site-packages (from trio~=0.17->selenium) (3.3)\n",
      "Requirement already satisfied: attrs>=19.2.0 in c:\\users\\k0105\\anaconda3\\lib\\site-packages (from trio~=0.17->selenium) (21.4.0)\n",
      "Requirement already satisfied: sniffio in c:\\users\\k0105\\anaconda3\\lib\\site-packages (from trio~=0.17->selenium) (1.2.0)\n",
      "Requirement already satisfied: outcome in c:\\users\\k0105\\anaconda3\\lib\\site-packages (from trio~=0.17->selenium) (1.2.0)\n",
      "Requirement already satisfied: async-generator>=1.9 in c:\\users\\k0105\\anaconda3\\lib\\site-packages (from trio~=0.17->selenium) (1.10)\n",
      "Requirement already satisfied: wsproto>=0.14 in c:\\users\\k0105\\anaconda3\\lib\\site-packages (from trio-websocket~=0.9->selenium) (1.2.0)\n",
      "Requirement already satisfied: PySocks!=1.5.7,<2.0,>=1.5.6 in c:\\users\\k0105\\anaconda3\\lib\\site-packages (from urllib3[socks]~=1.26->selenium) (1.7.1)\n",
      "Requirement already satisfied: pycparser in c:\\users\\k0105\\anaconda3\\lib\\site-packages (from cffi>=1.14->trio~=0.17->selenium) (2.21)\n",
      "Requirement already satisfied: h11<1,>=0.9.0 in c:\\users\\k0105\\anaconda3\\lib\\site-packages (from wsproto>=0.14->trio-websocket~=0.9->selenium) (0.14.0)\n"
     ]
    }
   ],
   "source": [
    "!pip install selenium"
   ]
  },
  {
   "cell_type": "markdown",
   "id": "c11a8804",
   "metadata": {},
   "source": [
    "### chromedriver-autoinstaller"
   ]
  },
  {
   "cell_type": "markdown",
   "id": "9608d959",
   "metadata": {},
   "source": [
    "* 버전에 맞는 드라이버 자동 설치"
   ]
  },
  {
   "cell_type": "code",
   "execution_count": 2,
   "id": "bb270428",
   "metadata": {},
   "outputs": [
    {
     "name": "stdout",
     "output_type": "stream",
     "text": [
      "Requirement already satisfied: chromedriver-autoinstaller in c:\\users\\k0105\\anaconda3\\lib\\site-packages (0.4.0)\n"
     ]
    }
   ],
   "source": [
    "!pip install chromedriver-autoinstaller"
   ]
  },
  {
   "cell_type": "markdown",
   "id": "9fc10151",
   "metadata": {},
   "source": [
    "### Beatiful Soup"
   ]
  },
  {
   "cell_type": "markdown",
   "id": "6dc71d72",
   "metadata": {},
   "source": [
    "* html 파싱"
   ]
  },
  {
   "cell_type": "code",
   "execution_count": 3,
   "id": "f8fc9596",
   "metadata": {},
   "outputs": [
    {
     "name": "stdout",
     "output_type": "stream",
     "text": [
      "Requirement already satisfied: BeautifulSoup4 in c:\\users\\k0105\\anaconda3\\lib\\site-packages (4.11.1)\n",
      "Requirement already satisfied: soupsieve>1.2 in c:\\users\\k0105\\anaconda3\\lib\\site-packages (from BeautifulSoup4) (2.3.1)\n"
     ]
    }
   ],
   "source": [
    "!pip install BeautifulSoup4"
   ]
  },
  {
   "cell_type": "markdown",
   "id": "12eb0deb",
   "metadata": {},
   "source": [
    "### tqdm"
   ]
  },
  {
   "cell_type": "markdown",
   "id": "127b1362",
   "metadata": {},
   "source": [
    "* 진행 상황 표시"
   ]
  },
  {
   "cell_type": "code",
   "execution_count": 4,
   "id": "5f6de73a",
   "metadata": {},
   "outputs": [
    {
     "name": "stdout",
     "output_type": "stream",
     "text": [
      "Requirement already satisfied: tqdm in c:\\users\\k0105\\anaconda3\\lib\\site-packages (4.64.1)\n",
      "Requirement already satisfied: colorama in c:\\users\\k0105\\anaconda3\\lib\\site-packages (from tqdm) (0.4.5)\n"
     ]
    }
   ],
   "source": [
    "!pip install tqdm"
   ]
  },
  {
   "cell_type": "markdown",
   "id": "da0b6bee",
   "metadata": {},
   "source": [
    "### urlopen"
   ]
  },
  {
   "cell_type": "markdown",
   "id": "44c0359a",
   "metadata": {},
   "source": [
    "* url 주소로 페이지 읽어오기\n",
    "    * 정적 페이지 한정"
   ]
  },
  {
   "cell_type": "code",
   "execution_count": 5,
   "id": "2ba7fc36",
   "metadata": {},
   "outputs": [
    {
     "name": "stdout",
     "output_type": "stream",
     "text": [
      "Requirement already satisfied: urlopen in c:\\users\\k0105\\anaconda3\\lib\\site-packages (1.0.0)\n"
     ]
    }
   ],
   "source": [
    "!pip install urlopen"
   ]
  },
  {
   "cell_type": "markdown",
   "id": "0bba7437",
   "metadata": {},
   "source": [
    "### requests"
   ]
  },
  {
   "cell_type": "markdown",
   "id": "56ec2ea6",
   "metadata": {},
   "source": [
    "* api 호출을 위해 사용"
   ]
  },
  {
   "cell_type": "code",
   "execution_count": 6,
   "id": "21a349a4",
   "metadata": {},
   "outputs": [
    {
     "name": "stdout",
     "output_type": "stream",
     "text": [
      "Requirement already satisfied: requests in c:\\users\\k0105\\anaconda3\\lib\\site-packages (2.28.1)\n",
      "Requirement already satisfied: urllib3<1.27,>=1.21.1 in c:\\users\\k0105\\anaconda3\\lib\\site-packages (from requests) (1.26.11)\n",
      "Requirement already satisfied: charset-normalizer<3,>=2 in c:\\users\\k0105\\anaconda3\\lib\\site-packages (from requests) (2.0.4)\n",
      "Requirement already satisfied: idna<4,>=2.5 in c:\\users\\k0105\\anaconda3\\lib\\site-packages (from requests) (3.3)\n",
      "Requirement already satisfied: certifi>=2017.4.17 in c:\\users\\k0105\\anaconda3\\lib\\site-packages (from requests) (2022.9.14)\n"
     ]
    }
   ],
   "source": [
    "!pip install requests"
   ]
  },
  {
   "cell_type": "markdown",
   "id": "db406f60",
   "metadata": {},
   "source": [
    "### Etc."
   ]
  },
  {
   "cell_type": "markdown",
   "id": "ce0cfb95",
   "metadata": {},
   "source": [
    "* numpy\n",
    "* pandas\n",
    "* maplotlib\n",
    "* seaborn"
   ]
  },
  {
   "cell_type": "markdown",
   "id": "0cddf2bc",
   "metadata": {},
   "source": [
    "## Modules import"
   ]
  },
  {
   "cell_type": "code",
   "execution_count": 91,
   "id": "0ae19010",
   "metadata": {},
   "outputs": [],
   "source": [
    "from selenium import webdriver\n",
    "from selenium.webdriver.chrome.service import Service\n",
    "import chromedriver_autoinstaller\n",
    "from urllib.request import urlopen\n",
    "from bs4 import BeautifulSoup\n",
    "import pandas as pd\n",
    "import numpy as np\n",
    "import time\n",
    "from tqdm import tqdm\n",
    "import requests\n",
    "from pprint import pprint\n",
    "\n",
    "import matplotlib.pyplot as plt\n",
    "from matplotlib import font_manager, rc\n",
    "import seaborn as sns\n",
    "\n",
    "font_path = \"C:/Windows/Fonts/malgun.TTF\"\n",
    "font = font_manager.FontProperties(fname=font_path).get_name()\n",
    "rc('font', family=font)"
   ]
  },
  {
   "cell_type": "code",
   "execution_count": 109,
   "id": "88b5bcb2",
   "metadata": {},
   "outputs": [
    {
     "ename": "FileNotFoundError",
     "evalue": "[Errno 2] No such file or directory: 'C:\\\\indows\\\\Fonts\\\\consola.ttf'",
     "output_type": "error",
     "traceback": [
      "\u001b[1;31m---------------------------------------------------------------------------\u001b[0m",
      "\u001b[1;31mFileNotFoundError\u001b[0m                         Traceback (most recent call last)",
      "\u001b[1;32m~\\AppData\\Local\\Temp\\ipykernel_5380\\3100667346.py\u001b[0m in \u001b[0;36m<module>\u001b[1;34m\u001b[0m\n\u001b[0;32m      1\u001b[0m \u001b[0mfont_path\u001b[0m \u001b[1;33m=\u001b[0m \u001b[1;34m\"C:/indows/Fonts/consola.ttf\"\u001b[0m\u001b[1;33m\u001b[0m\u001b[1;33m\u001b[0m\u001b[0m\n\u001b[1;32m----> 2\u001b[1;33m \u001b[0mfont\u001b[0m \u001b[1;33m=\u001b[0m \u001b[0mfont_manager\u001b[0m\u001b[1;33m.\u001b[0m\u001b[0mFontProperties\u001b[0m\u001b[1;33m(\u001b[0m\u001b[0mfname\u001b[0m\u001b[1;33m=\u001b[0m\u001b[0mfont_path\u001b[0m\u001b[1;33m)\u001b[0m\u001b[1;33m.\u001b[0m\u001b[0mget_name\u001b[0m\u001b[1;33m(\u001b[0m\u001b[1;33m)\u001b[0m\u001b[1;33m\u001b[0m\u001b[1;33m\u001b[0m\u001b[0m\n\u001b[0m\u001b[0;32m      3\u001b[0m \u001b[0mrc\u001b[0m\u001b[1;33m(\u001b[0m\u001b[1;34m'font'\u001b[0m\u001b[1;33m,\u001b[0m \u001b[0mfamily\u001b[0m\u001b[1;33m=\u001b[0m\u001b[0mfont\u001b[0m\u001b[1;33m)\u001b[0m\u001b[1;33m\u001b[0m\u001b[1;33m\u001b[0m\u001b[0m\n",
      "\u001b[1;32m~\\anaconda3\\lib\\site-packages\\matplotlib\\font_manager.py\u001b[0m in \u001b[0;36mget_name\u001b[1;34m(self)\u001b[0m\n\u001b[0;32m    735\u001b[0m         \u001b[0mReturn\u001b[0m \u001b[0mthe\u001b[0m \u001b[0mname\u001b[0m \u001b[0mof\u001b[0m \u001b[0mthe\u001b[0m \u001b[0mfont\u001b[0m \u001b[0mthat\u001b[0m \u001b[0mbest\u001b[0m \u001b[0mmatches\u001b[0m \u001b[0mthe\u001b[0m \u001b[0mfont\u001b[0m \u001b[0mproperties\u001b[0m\u001b[1;33m.\u001b[0m\u001b[1;33m\u001b[0m\u001b[1;33m\u001b[0m\u001b[0m\n\u001b[0;32m    736\u001b[0m         \"\"\"\n\u001b[1;32m--> 737\u001b[1;33m         \u001b[1;32mreturn\u001b[0m \u001b[0mget_font\u001b[0m\u001b[1;33m(\u001b[0m\u001b[0mfindfont\u001b[0m\u001b[1;33m(\u001b[0m\u001b[0mself\u001b[0m\u001b[1;33m)\u001b[0m\u001b[1;33m)\u001b[0m\u001b[1;33m.\u001b[0m\u001b[0mfamily_name\u001b[0m\u001b[1;33m\u001b[0m\u001b[1;33m\u001b[0m\u001b[0m\n\u001b[0m\u001b[0;32m    738\u001b[0m \u001b[1;33m\u001b[0m\u001b[0m\n\u001b[0;32m    739\u001b[0m     \u001b[1;32mdef\u001b[0m \u001b[0mget_style\u001b[0m\u001b[1;33m(\u001b[0m\u001b[0mself\u001b[0m\u001b[1;33m)\u001b[0m\u001b[1;33m:\u001b[0m\u001b[1;33m\u001b[0m\u001b[1;33m\u001b[0m\u001b[0m\n",
      "\u001b[1;32m~\\anaconda3\\lib\\site-packages\\matplotlib\\font_manager.py\u001b[0m in \u001b[0;36mget_font\u001b[1;34m(filename, hinting_factor)\u001b[0m\n\u001b[0;32m   1422\u001b[0m         \u001b[0mhinting_factor\u001b[0m \u001b[1;33m=\u001b[0m \u001b[0mrcParams\u001b[0m\u001b[1;33m[\u001b[0m\u001b[1;34m'text.hinting_factor'\u001b[0m\u001b[1;33m]\u001b[0m\u001b[1;33m\u001b[0m\u001b[1;33m\u001b[0m\u001b[0m\n\u001b[0;32m   1423\u001b[0m     \u001b[1;31m# also key on the thread ID to prevent segfaults with multi-threading\u001b[0m\u001b[1;33m\u001b[0m\u001b[1;33m\u001b[0m\u001b[0m\n\u001b[1;32m-> 1424\u001b[1;33m     return _get_font(filename, hinting_factor,\n\u001b[0m\u001b[0;32m   1425\u001b[0m                      \u001b[0m_kerning_factor\u001b[0m\u001b[1;33m=\u001b[0m\u001b[0mrcParams\u001b[0m\u001b[1;33m[\u001b[0m\u001b[1;34m'text.kerning_factor'\u001b[0m\u001b[1;33m]\u001b[0m\u001b[1;33m,\u001b[0m\u001b[1;33m\u001b[0m\u001b[1;33m\u001b[0m\u001b[0m\n\u001b[0;32m   1426\u001b[0m                      thread_id=threading.get_ident())\n",
      "\u001b[1;32m~\\anaconda3\\lib\\site-packages\\matplotlib\\font_manager.py\u001b[0m in \u001b[0;36m_get_font\u001b[1;34m(filename, hinting_factor, _kerning_factor, thread_id)\u001b[0m\n\u001b[0;32m   1403\u001b[0m \u001b[1;33m@\u001b[0m\u001b[0mlru_cache\u001b[0m\u001b[1;33m(\u001b[0m\u001b[1;36m64\u001b[0m\u001b[1;33m)\u001b[0m\u001b[1;33m\u001b[0m\u001b[1;33m\u001b[0m\u001b[0m\n\u001b[0;32m   1404\u001b[0m \u001b[1;32mdef\u001b[0m \u001b[0m_get_font\u001b[0m\u001b[1;33m(\u001b[0m\u001b[0mfilename\u001b[0m\u001b[1;33m,\u001b[0m \u001b[0mhinting_factor\u001b[0m\u001b[1;33m,\u001b[0m \u001b[1;33m*\u001b[0m\u001b[1;33m,\u001b[0m \u001b[0m_kerning_factor\u001b[0m\u001b[1;33m,\u001b[0m \u001b[0mthread_id\u001b[0m\u001b[1;33m)\u001b[0m\u001b[1;33m:\u001b[0m\u001b[1;33m\u001b[0m\u001b[1;33m\u001b[0m\u001b[0m\n\u001b[1;32m-> 1405\u001b[1;33m     return ft2font.FT2Font(\n\u001b[0m\u001b[0;32m   1406\u001b[0m         filename, hinting_factor, _kerning_factor=_kerning_factor)\n\u001b[0;32m   1407\u001b[0m \u001b[1;33m\u001b[0m\u001b[0m\n",
      "\u001b[1;31mFileNotFoundError\u001b[0m: [Errno 2] No such file or directory: 'C:\\\\indows\\\\Fonts\\\\consola.ttf'"
     ]
    }
   ],
   "source": [
    "font_path = \"C:/indows/Fonts/consola.ttf\"\n",
    "font = font_manager.FontProperties(fname=font_path).get_name()\n",
    "rc('font', family=font)"
   ]
  },
  {
   "cell_type": "code",
   "execution_count": 110,
   "id": "8c953a5d",
   "metadata": {},
   "outputs": [
    {
     "name": "stdout",
     "output_type": "stream",
     "text": [
      "Requirement already satisfied: matplotlib in c:\\users\\k0105\\anaconda3\\lib\\site-packages (3.5.2)\n",
      "Requirement already satisfied: fonttools>=4.22.0 in c:\\users\\k0105\\anaconda3\\lib\\site-packages (from matplotlib) (4.25.0)\n",
      "Requirement already satisfied: numpy>=1.17 in c:\\users\\k0105\\anaconda3\\lib\\site-packages (from matplotlib) (1.21.5)\n",
      "Requirement already satisfied: packaging>=20.0 in c:\\users\\k0105\\anaconda3\\lib\\site-packages (from matplotlib) (21.3)\n",
      "Requirement already satisfied: pillow>=6.2.0 in c:\\users\\k0105\\anaconda3\\lib\\site-packages (from matplotlib) (9.2.0)\n",
      "Requirement already satisfied: pyparsing>=2.2.1 in c:\\users\\k0105\\anaconda3\\lib\\site-packages (from matplotlib) (3.0.9)\n",
      "Requirement already satisfied: kiwisolver>=1.0.1 in c:\\users\\k0105\\anaconda3\\lib\\site-packages (from matplotlib) (1.4.2)\n",
      "Requirement already satisfied: cycler>=0.10 in c:\\users\\k0105\\anaconda3\\lib\\site-packages (from matplotlib) (0.11.0)\n",
      "Requirement already satisfied: python-dateutil>=2.7 in c:\\users\\k0105\\anaconda3\\lib\\site-packages (from matplotlib) (2.8.2)\n",
      "Requirement already satisfied: six>=1.5 in c:\\users\\k0105\\anaconda3\\lib\\site-packages (from python-dateutil>=2.7->matplotlib) (1.16.0)\n",
      "Note: you may need to restart the kernel to use updated packages.\n"
     ]
    }
   ],
   "source": [
    "%pip install matplotlib"
   ]
  },
  {
   "cell_type": "code",
   "execution_count": 111,
   "id": "f989f1ef",
   "metadata": {},
   "outputs": [
    {
     "name": "stdout",
     "output_type": "stream",
     "text": [
      "['C:\\\\Windows\\\\Fonts\\\\simsunb.ttf', 'C:\\\\Windows\\\\Fonts\\\\Candaraz.ttf', 'C:\\\\Windows\\\\Fonts\\\\Candaral.ttf', 'C:\\\\Windows\\\\Fonts\\\\l_10646.ttf', 'C:\\\\Windows\\\\Fonts\\\\CascadiaMono.ttf', 'C:\\\\Windows\\\\Fonts\\\\verdanab.ttf', 'C:\\\\Windows\\\\Fonts\\\\msyhbd.ttc', 'C:\\\\Windows\\\\Fonts\\\\msjhl.ttc', 'C:\\\\Windows\\\\Fonts\\\\georgiai.ttf', 'C:\\\\Windows\\\\Fonts\\\\courbi.ttf', 'C:\\\\Windows\\\\Fonts\\\\palai.ttf', 'C:\\\\Windows\\\\Fonts\\\\corbelz.ttf', 'C:\\\\Windows\\\\Fonts\\\\courbd.ttf', 'C:\\\\Windows\\\\Fonts\\\\corbelli.ttf', 'C:\\\\Windows\\\\Fonts\\\\Candarab.ttf', 'C:\\\\Windows\\\\Fonts\\\\verdana.ttf', 'C:\\\\Windows\\\\Fonts\\\\Gabriola.ttf', 'C:\\\\Windows\\\\Fonts\\\\SegoeIcons.ttf', 'C:\\\\Windows\\\\Fonts\\\\SegUIVar.ttf', 'C:\\\\Windows\\\\Fonts\\\\ariblk.ttf', 'C:\\\\Windows\\\\Fonts\\\\georgiab.ttf', 'C:\\\\Windows\\\\Fonts\\\\timesbd.ttf', 'C:\\\\Windows\\\\Fonts\\\\segoeuiz.ttf', 'C:\\\\Windows\\\\Fonts\\\\impact.ttf', 'C:\\\\Windows\\\\Fonts\\\\marlett.ttf', 'C:\\\\Windows\\\\Fonts\\\\cambriab.ttf', 'C:\\\\Windows\\\\Fonts\\\\msyi.ttf', 'C:\\\\Windows\\\\Fonts\\\\seguisbi.ttf', 'C:\\\\Windows\\\\Fonts\\\\corbelb.ttf', 'C:\\\\Windows\\\\Fonts\\\\palabi.ttf', 'C:\\\\Windows\\\\Fonts\\\\framdit.ttf', 'C:\\\\Windows\\\\Fonts\\\\seguihis.ttf', 'C:\\\\Windows\\\\Fonts\\\\segoeuib.ttf', 'C:\\\\Windows\\\\Fonts\\\\YuGothB.ttc', 'C:\\\\Windows\\\\Fonts\\\\tahoma.ttf', 'C:\\\\Windows\\\\Fonts\\\\gulim.ttc', 'C:\\\\Windows\\\\Fonts\\\\taileb.ttf', 'C:\\\\Windows\\\\Fonts\\\\simsun.ttc', 'C:\\\\Windows\\\\Fonts\\\\georgia.ttf', 'C:\\\\Windows\\\\Fonts\\\\msjh.ttc', 'C:\\\\Windows\\\\Fonts\\\\ntailu.ttf', 'C:\\\\Windows\\\\Fonts\\\\seguibli.ttf', 'C:\\\\Windows\\\\Fonts\\\\trebucbi.ttf', 'C:\\\\Windows\\\\Fonts\\\\segoeprb.ttf', 'C:\\\\Windows\\\\Fonts\\\\msgothic.ttc', 'C:\\\\Windows\\\\Fonts\\\\YuGothR.ttc', 'C:\\\\Windows\\\\Fonts\\\\calibrib.ttf', 'C:\\\\Windows\\\\Fonts\\\\cambria.ttc', 'C:\\\\Windows\\\\Fonts\\\\holomdl2.ttf', 'C:\\\\Windows\\\\Fonts\\\\corbell.ttf', 'C:\\\\Windows\\\\Fonts\\\\consolab.ttf', 'C:\\\\Windows\\\\Fonts\\\\arialbi.ttf', 'C:\\\\Windows\\\\Fonts\\\\pala.ttf', 'C:\\\\Windows\\\\Fonts\\\\segoeuii.ttf', 'C:\\\\Windows\\\\Fonts\\\\malgun.ttf', 'C:\\\\Windows\\\\Fonts\\\\segoesc.ttf', 'C:\\\\Windows\\\\Fonts\\\\javatext.ttf', 'C:\\\\Windows\\\\Fonts\\\\phagspab.ttf', 'C:\\\\Windows\\\\Fonts\\\\batang.ttc', 'C:\\\\Windows\\\\Fonts\\\\LeelawUI.ttf', 'C:\\\\Windows\\\\Fonts\\\\corbel.ttf', 'C:\\\\Windows\\\\Fonts\\\\georgiaz.ttf', 'C:\\\\Windows\\\\Fonts\\\\cambriai.ttf', 'C:\\\\Windows\\\\Fonts\\\\constan.ttf', 'C:\\\\Windows\\\\Fonts\\\\seguili.ttf', 'C:\\\\Windows\\\\Fonts\\\\Inkfree.ttf', 'C:\\\\Windows\\\\Fonts\\\\segoeui.ttf', 'C:\\\\Windows\\\\Fonts\\\\constanz.ttf', 'C:\\\\Windows\\\\Fonts\\\\malgunsl.ttf', 'C:\\\\Windows\\\\Fonts\\\\YuGothL.ttc', 'C:\\\\Windows\\\\Fonts\\\\segoescb.ttf', 'C:\\\\Windows\\\\Fonts\\\\msyh.ttc', 'C:\\\\Windows\\\\Fonts\\\\YuGothM.ttc', 'C:\\\\Windows\\\\Fonts\\\\trebuc.ttf', 'C:\\\\Windows\\\\Fonts\\\\seguiemj.ttf', 'C:\\\\Windows\\\\Fonts\\\\corbeli.ttf', 'C:\\\\Windows\\\\Fonts\\\\SitkaVF-Italic.ttf', 'C:\\\\Windows\\\\Fonts\\\\mingliub.ttc', 'C:\\\\Windows\\\\Fonts\\\\taile.ttf', 'C:\\\\Windows\\\\Fonts\\\\SansSerifCollection.ttf', 'C:\\\\Windows\\\\Fonts\\\\consola.ttf', 'C:\\\\Windows\\\\Fonts\\\\himalaya.ttf', 'C:\\\\Windows\\\\Fonts\\\\NirmalaS.ttf', 'C:\\\\Windows\\\\Fonts\\\\constanb.ttf', 'C:\\\\Windows\\\\Fonts\\\\seguibl.ttf', 'C:\\\\Windows\\\\Fonts\\\\NirmalaB.ttf', 'C:\\\\Windows\\\\Fonts\\\\LeelaUIb.ttf', 'C:\\\\Windows\\\\Fonts\\\\times.ttf', 'C:\\\\Windows\\\\Fonts\\\\sylfaen.ttf', 'C:\\\\Windows\\\\Fonts\\\\calibriz.ttf', 'C:\\\\Windows\\\\Fonts\\\\Candarali.ttf', 'C:\\\\Windows\\\\Fonts\\\\Nirmala.ttf', 'C:\\\\Windows\\\\Fonts\\\\couri.ttf', 'C:\\\\Windows\\\\Fonts\\\\verdanaz.ttf', 'C:\\\\Windows\\\\Fonts\\\\mvboli.ttf', 'C:\\\\Windows\\\\Fonts\\\\tahomabd.ttf', 'C:\\\\Windows\\\\Fonts\\\\palab.ttf', 'C:\\\\Windows\\\\Fonts\\\\cour.ttf', 'C:\\\\Windows\\\\Fonts\\\\consolai.ttf', 'C:\\\\Windows\\\\Fonts\\\\gadugi.ttf', 'C:\\\\Windows\\\\Fonts\\\\lucon.ttf', 'C:\\\\Windows\\\\Fonts\\\\comicz.ttf', 'C:\\\\Windows\\\\Fonts\\\\timesbi.ttf', 'C:\\\\Windows\\\\Fonts\\\\constani.ttf', 'C:\\\\Windows\\\\Fonts\\\\webdings.ttf', 'C:\\\\Windows\\\\Fonts\\\\seguisym.ttf', 'C:\\\\Windows\\\\Fonts\\\\segoeuisl.ttf', 'C:\\\\Windows\\\\Fonts\\\\segmdl2.ttf', 'C:\\\\Windows\\\\Fonts\\\\arial.ttf', 'C:\\\\Windows\\\\Fonts\\\\CascadiaCode.ttf', 'C:\\\\Windows\\\\Fonts\\\\segoeuil.ttf', 'C:\\\\Windows\\\\Fonts\\\\bahnschrift.ttf', 'C:\\\\Windows\\\\Fonts\\\\ariali.ttf', 'C:\\\\Windows\\\\Fonts\\\\comicbd.ttf', 'C:\\\\Windows\\\\Fonts\\\\Candarai.ttf', 'C:\\\\Windows\\\\Fonts\\\\seguisli.ttf', 'C:\\\\Windows\\\\Fonts\\\\calibrii.ttf', 'C:\\\\Windows\\\\Fonts\\\\verdanai.ttf', 'C:\\\\Windows\\\\Fonts\\\\calibrili.ttf', 'C:\\\\Windows\\\\Fonts\\\\timesi.ttf', 'C:\\\\Windows\\\\Fonts\\\\SitkaVF.ttf', 'C:\\\\Windows\\\\Fonts\\\\msyhl.ttc', 'C:\\\\Windows\\\\Fonts\\\\msjhbd.ttc', 'C:\\\\Windows\\\\Fonts\\\\Candara.ttf', 'C:\\\\Windows\\\\Fonts\\\\gadugib.ttf', 'C:\\\\Windows\\\\Fonts\\\\framd.ttf', 'C:\\\\Windows\\\\Fonts\\\\ntailub.ttf', 'C:\\\\Windows\\\\Fonts\\\\comici.ttf', 'C:\\\\Windows\\\\Fonts\\\\mmrtext.ttf', 'C:\\\\Windows\\\\Fonts\\\\LeelUIsl.ttf', 'C:\\\\Windows\\\\Fonts\\\\ebrimabd.ttf', 'C:\\\\Windows\\\\Fonts\\\\micross.ttf', 'C:\\\\Windows\\\\Fonts\\\\ebrima.ttf', 'C:\\\\Windows\\\\Fonts\\\\consolaz.ttf', 'C:\\\\Windows\\\\Fonts\\\\monbaiti.ttf', 'C:\\\\Windows\\\\Fonts\\\\cambriaz.ttf', 'C:\\\\Windows\\\\Fonts\\\\symbol.ttf', 'C:\\\\Windows\\\\Fonts\\\\malgunbd.ttf', 'C:\\\\Windows\\\\Fonts\\\\wingding.ttf', 'C:\\\\Windows\\\\Fonts\\\\arialbd.ttf', 'C:\\\\Windows\\\\Fonts\\\\seguisb.ttf', 'C:\\\\Windows\\\\Fonts\\\\segoepr.ttf', 'C:\\\\Windows\\\\Fonts\\\\mmrtextb.ttf', 'C:\\\\Windows\\\\Fonts\\\\calibri.ttf', 'C:\\\\Windows\\\\Fonts\\\\phagspa.ttf', 'C:\\\\Windows\\\\Fonts\\\\trebucbd.ttf', 'C:\\\\Windows\\\\Fonts\\\\comic.ttf', 'C:\\\\Windows\\\\Fonts\\\\trebucit.ttf', 'C:\\\\Windows\\\\Fonts\\\\calibril.ttf']\n"
     ]
    }
   ],
   "source": [
    "import matplotlib.pyplot as plt\n",
    "import matplotlib.font_manager as fm\n",
    "print(fm.findSystemFonts(fontpaths=None, fontext='ttf'))"
   ]
  },
  {
   "cell_type": "code",
   "execution_count": null,
   "id": "3397f05b",
   "metadata": {},
   "outputs": [],
   "source": []
  },
  {
   "cell_type": "markdown",
   "id": "ea78e030",
   "metadata": {},
   "source": [
    "## Driver import"
   ]
  },
  {
   "cell_type": "markdown",
   "id": "e0729bbe",
   "metadata": {},
   "source": [
    "* 생성된 크롬창 끄면 안 됨\n",
    "* 웹 브라우저에 맞게 사용\n",
    "    * 본 수업에서는 크롬 사용\n",
    "* 스크래핑을 수행할 때마다 실행\n",
    "    * 크롬이 업데이트될 때마다 버전에 맞는 드라이버 자동 설치"
   ]
  },
  {
   "cell_type": "markdown",
   "id": "05c133f9",
   "metadata": {},
   "source": [
    "```\n",
    "chrome_ver = chromedriver_autoinstaller.get_chrome_version().split('.')[0]\n",
    "s = Service(f'./{chrome_ver}/chromedriver.exe')\n",
    "\n",
    "try:\n",
    "    driver = webdriver.Chrome(service=s)   \n",
    "except:\n",
    "    chromedriver_autoinstaller.install(True)\n",
    "    driver = webdriver.Chrome(service=s)\n",
    "\n",
    "driver.implicitly_wait(10)\n",
    "```"
   ]
  },
  {
   "cell_type": "markdown",
   "id": "6e63acbd",
   "metadata": {},
   "source": [
    "# HEARTHSTONE"
   ]
  },
  {
   "cell_type": "markdown",
   "id": "3e874537",
   "metadata": {},
   "source": [
    "## Deck info scraping"
   ]
  },
  {
   "cell_type": "markdown",
   "id": "09aca9d7",
   "metadata": {},
   "source": [
    "* 스크래핑할 사이트: HSReplay.net\n",
    "> https://hsreplay.net/"
   ]
  },
  {
   "cell_type": "code",
   "execution_count": 112,
   "id": "018d4626",
   "metadata": {},
   "outputs": [],
   "source": [
    "chrome_ver = chromedriver_autoinstaller.get_chrome_version().split('.')[0]\n",
    "s = Service(f'./{chrome_ver}/chromedriver.exe')\n",
    "\n",
    "try:\n",
    "    driver = webdriver.Chrome(service=s)   \n",
    "except:\n",
    "    chromedriver_autoinstaller.install(True)\n",
    "    driver = webdriver.Chrome(service=s)\n",
    "\n",
    "driver.implicitly_wait(10)"
   ]
  },
  {
   "cell_type": "code",
   "execution_count": 113,
   "id": "ae0e18cd",
   "metadata": {},
   "outputs": [
    {
     "name": "stderr",
     "output_type": "stream",
     "text": [
      "Get Deck List: 100%|█████████████████████████████████████████████████████████████████████| 1/1 [00:06<00:00,  6.93s/it]\n"
     ]
    },
    {
     "data": {
      "text/html": [
       "<div>\n",
       "<style scoped>\n",
       "    .dataframe tbody tr th:only-of-type {\n",
       "        vertical-align: middle;\n",
       "    }\n",
       "\n",
       "    .dataframe tbody tr th {\n",
       "        vertical-align: top;\n",
       "    }\n",
       "\n",
       "    .dataframe thead th {\n",
       "        text-align: right;\n",
       "    }\n",
       "</style>\n",
       "<table border=\"1\" class=\"dataframe\">\n",
       "  <thead>\n",
       "    <tr style=\"text-align: right;\">\n",
       "      <th></th>\n",
       "      <th>클래스</th>\n",
       "      <th>이름</th>\n",
       "      <th>가루량</th>\n",
       "      <th>승률</th>\n",
       "      <th>판수</th>\n",
       "    </tr>\n",
       "  </thead>\n",
       "  <tbody>\n",
       "    <tr>\n",
       "      <th>0</th>\n",
       "      <td>DEATHKNIGHT</td>\n",
       "      <td>Unholy Death Knight</td>\n",
       "      <td>4680</td>\n",
       "      <td>61.1</td>\n",
       "      <td>43000</td>\n",
       "    </tr>\n",
       "    <tr>\n",
       "      <th>1</th>\n",
       "      <td>DEATHKNIGHT</td>\n",
       "      <td>Frost Death Knight</td>\n",
       "      <td>5480</td>\n",
       "      <td>54.9</td>\n",
       "      <td>17000</td>\n",
       "    </tr>\n",
       "    <tr>\n",
       "      <th>2</th>\n",
       "      <td>DEATHKNIGHT</td>\n",
       "      <td>Unholy Death Knight</td>\n",
       "      <td>6300</td>\n",
       "      <td>61.5</td>\n",
       "      <td>14000</td>\n",
       "    </tr>\n",
       "    <tr>\n",
       "      <th>3</th>\n",
       "      <td>DEATHKNIGHT</td>\n",
       "      <td>Frost Death Knight</td>\n",
       "      <td>5680</td>\n",
       "      <td>59.1</td>\n",
       "      <td>8200</td>\n",
       "    </tr>\n",
       "    <tr>\n",
       "      <th>4</th>\n",
       "      <td>DEATHKNIGHT</td>\n",
       "      <td>Blood Death Knight</td>\n",
       "      <td>9480</td>\n",
       "      <td>54.9</td>\n",
       "      <td>6800</td>\n",
       "    </tr>\n",
       "  </tbody>\n",
       "</table>\n",
       "</div>"
      ],
      "text/plain": [
       "           클래스                   이름   가루량    승률     판수\n",
       "0  DEATHKNIGHT  Unholy Death Knight  4680  61.1  43000\n",
       "1  DEATHKNIGHT   Frost Death Knight  5480  54.9  17000\n",
       "2  DEATHKNIGHT  Unholy Death Knight  6300  61.5  14000\n",
       "3  DEATHKNIGHT   Frost Death Knight  5680  59.1   8200\n",
       "4  DEATHKNIGHT   Blood Death Knight  9480  54.9   6800"
      ]
     },
     "execution_count": 113,
     "metadata": {},
     "output_type": "execute_result"
    }
   ],
   "source": [
    "decks = []\n",
    "startPage = 1\n",
    "endPage = 1\n",
    "for page in tqdm(range(startPage,startPage+endPage),desc=\"Get Deck List\"):\n",
    "    url = \"https://hsreplay.net/decks/#playerClasses=DEATHKNIGHT\"\n",
    "    driver.get(url)\n",
    "    time.sleep(2)\n",
    "    bsObject = BeautifulSoup(driver.page_source, \"html.parser\")\n",
    "    deckTags = bsObject.select(\"section.deck-list > ul > li > a\")\n",
    "    for deckTag in deckTags:\n",
    "        deck = {}\n",
    "        deckRow = deckTag.findChild(\"div\",{\"class\":\"row\"})\n",
    "        deck[\"클래스\"] = deckTag[\"data-card-class\"]\n",
    "        deck[\"이름\"] = deckRow.findChild(\"h3\",{\"class\":\"deck-name\"}).get_text();\n",
    "        deck[\"가루량\"] = int(deckRow.findChild(\"span\",{\"class\":\"dust-cost\"}).get_text().strip())\n",
    "        deck[\"승률\"] = float(deckRow.findChild(\"span\",{\"class\":\"win-rate\"}).get_text().replace(\"%\",\"\").strip());\n",
    "        deck[\"판수\"] = int(deckRow.findChild(\"span\",{\"class\":\"game-count\"}).get_text().replace(\",\",\"\").strip());\n",
    "        decks.append(deck);\n",
    "decks = pd.DataFrame(decks)\n",
    "decks.head()"
   ]
  },
  {
   "cell_type": "code",
   "execution_count": 114,
   "id": "51d90990",
   "metadata": {},
   "outputs": [
    {
     "name": "stderr",
     "output_type": "stream",
     "text": [
      "Get Deck List: 100%|█████████████████████████████████████████████████████████████████████| 1/1 [00:04<00:00,  4.75s/it]\n"
     ]
    },
    {
     "data": {
      "text/html": [
       "<div>\n",
       "<style scoped>\n",
       "    .dataframe tbody tr th:only-of-type {\n",
       "        vertical-align: middle;\n",
       "    }\n",
       "\n",
       "    .dataframe tbody tr th {\n",
       "        vertical-align: top;\n",
       "    }\n",
       "\n",
       "    .dataframe thead th {\n",
       "        text-align: right;\n",
       "    }\n",
       "</style>\n",
       "<table border=\"1\" class=\"dataframe\">\n",
       "  <thead>\n",
       "    <tr style=\"text-align: right;\">\n",
       "      <th></th>\n",
       "      <th>클래스</th>\n",
       "      <th>이름</th>\n",
       "      <th>가루량</th>\n",
       "      <th>승률</th>\n",
       "      <th>판수</th>\n",
       "      <th>게임시간</th>\n",
       "    </tr>\n",
       "  </thead>\n",
       "  <tbody>\n",
       "    <tr>\n",
       "      <th>0</th>\n",
       "      <td>DEATHKNIGHT</td>\n",
       "      <td>Unholy Death Knight</td>\n",
       "      <td>4680</td>\n",
       "      <td>61.1</td>\n",
       "      <td>43000</td>\n",
       "      <td>7.7</td>\n",
       "    </tr>\n",
       "    <tr>\n",
       "      <th>1</th>\n",
       "      <td>DEATHKNIGHT</td>\n",
       "      <td>Frost Death Knight</td>\n",
       "      <td>5480</td>\n",
       "      <td>54.9</td>\n",
       "      <td>17000</td>\n",
       "      <td>7.9</td>\n",
       "    </tr>\n",
       "    <tr>\n",
       "      <th>2</th>\n",
       "      <td>DEATHKNIGHT</td>\n",
       "      <td>Unholy Death Knight</td>\n",
       "      <td>6300</td>\n",
       "      <td>61.5</td>\n",
       "      <td>14000</td>\n",
       "      <td>7.5</td>\n",
       "    </tr>\n",
       "    <tr>\n",
       "      <th>3</th>\n",
       "      <td>DEATHKNIGHT</td>\n",
       "      <td>Frost Death Knight</td>\n",
       "      <td>5680</td>\n",
       "      <td>59.1</td>\n",
       "      <td>8200</td>\n",
       "      <td>7.8</td>\n",
       "    </tr>\n",
       "    <tr>\n",
       "      <th>4</th>\n",
       "      <td>DEATHKNIGHT</td>\n",
       "      <td>Blood Death Knight</td>\n",
       "      <td>9480</td>\n",
       "      <td>54.9</td>\n",
       "      <td>6800</td>\n",
       "      <td>10.7</td>\n",
       "    </tr>\n",
       "  </tbody>\n",
       "</table>\n",
       "</div>"
      ],
      "text/plain": [
       "           클래스                   이름   가루량    승률     판수  게임시간\n",
       "0  DEATHKNIGHT  Unholy Death Knight  4680  61.1  43000   7.7\n",
       "1  DEATHKNIGHT   Frost Death Knight  5480  54.9  17000   7.9\n",
       "2  DEATHKNIGHT  Unholy Death Knight  6300  61.5  14000   7.5\n",
       "3  DEATHKNIGHT   Frost Death Knight  5680  59.1   8200   7.8\n",
       "4  DEATHKNIGHT   Blood Death Knight  9480  54.9   6800  10.7"
      ]
     },
     "execution_count": 114,
     "metadata": {},
     "output_type": "execute_result"
    }
   ],
   "source": [
    "decks = []\n",
    "startPage = 1\n",
    "endPage = 1\n",
    "for page in tqdm(range(startPage,startPage+endPage),desc=\"Get Deck List\"):\n",
    "    url = \"https://hsreplay.net/decks/#playerClasses=DEATHKNIGHT\"\n",
    "    driver.get(url)\n",
    "    time.sleep(2)\n",
    "    bsObject = BeautifulSoup(driver.page_source, \"html.parser\")\n",
    "    deckTags = bsObject.select(\"section.deck-list > ul > li > a\")\n",
    "    for deckTag in deckTags:\n",
    "        deck = {}\n",
    "        deckRow = deckTag.findChild(\"div\",{\"class\":\"row\"})\n",
    "        deck[\"클래스\"] = deckTag[\"data-card-class\"]\n",
    "        deck[\"이름\"] = deckRow.findChild(\"h3\",{\"class\":\"deck-name\"}).get_text();\n",
    "        deck[\"가루량\"] = int(deckRow.findChild(\"span\",{\"class\":\"dust-cost\"}).get_text().strip())\n",
    "        deck[\"승률\"] = float(deckRow.findChild(\"span\",{\"class\":\"win-rate\"}).get_text().replace(\"%\",\"\").strip());\n",
    "        deck[\"판수\"] = int(deckRow.findChild(\"span\",{\"class\":\"game-count\"}).get_text().replace(\",\",\"\").strip());\n",
    "        deck[\"게임시간\"] = float(deckRow.findChild(\"span\",{\"class\":\"duration\"}).get_text().replace(\"분\",\"\").strip());\n",
    "        decks.append(deck);\n",
    "decks = pd.DataFrame(decks)\n",
    "decks.head()"
   ]
  },
  {
   "cell_type": "markdown",
   "id": "046a97a7",
   "metadata": {},
   "source": [
    "## Data analysis"
   ]
  },
  {
   "cell_type": "markdown",
   "id": "9d174758",
   "metadata": {},
   "source": [
    "### Box plot"
   ]
  },
  {
   "cell_type": "markdown",
   "id": "e0d3af72",
   "metadata": {},
   "source": [
    "* 승률 분포 확인"
   ]
  },
  {
   "cell_type": "code",
   "execution_count": 115,
   "id": "105535e4",
   "metadata": {},
   "outputs": [
    {
     "data": {
      "image/png": "[encoded data removed]",
      "text/plain": [
       "<Figure size 700x200 with 1 Axes>"
      ]
     },
     "metadata": {},
     "output_type": "display_data"
    }
   ],
   "source": [
    "plt.figure(figsize=(7, 2))\n",
    "sns.boxplot(data=decks['승률'], x=decks['승률'], orient='h')\n",
    "plt.show()"
   ]
  },
  {
   "cell_type": "markdown",
   "id": "12a52ca1",
   "metadata": {},
   "source": [
    "### Correlation"
   ]
  },
  {
   "cell_type": "markdown",
   "id": "fca324f9",
   "metadata": {},
   "source": [
    "* 승률과 판수의 상관관계 확인"
   ]
  },
  {
   "cell_type": "code",
   "execution_count": 118,
   "id": "a0e77e48",
   "metadata": {},
   "outputs": [
    {
     "name": "stderr",
     "output_type": "stream",
     "text": [
      "C:\\Users\\k0105\\anaconda3\\lib\\site-packages\\IPython\\core\\pylabtools.py:151: UserWarning: Glyph 8722 (\\N{MINUS SIGN}) missing from current font.\n",
      "  fig.canvas.print_figure(bytes_io, **kw)\n"
     ]
    },
    {
     "data": {
      "image/png": "[encoded data removed]",
      "text/plain": [
       "<Figure size 640x480 with 2 Axes>"
      ]
     },
     "metadata": {},
     "output_type": "display_data"
    }
   ],
   "source": [
    "figures, axes = plt.subplots(2)\n",
    "plt.subplots_adjust(right=2.5, top=2.5, hspace=0.2)\n",
    "p1 = sns.scatterplot(data=decks, ax=axes[0], x='승률', y='판수', hue='클래스')\n",
    "p1.set_xlabel('승률', fontsize=18)\n",
    "p1.set_ylabel('판수', fontsize=18)\n",
    "p1.tick_params(labelsize=15)\n",
    "p2 = sns.kdeplot(data=decks, ax=axes[1], x='승률', y='판수', alpha=0.6, fill=True)\n",
    "p2.set_xlabel('승률', fontsize=18)\n",
    "p2.set_ylabel('판수', fontsize=18)\n",
    "p2.tick_params(labelsize=15)\n",
    "\n",
    "plt.show()"
   ]
  },
  {
   "cell_type": "code",
   "execution_count": 119,
   "id": "d9baa6df",
   "metadata": {
    "scrolled": true
   },
   "outputs": [
    {
     "name": "stderr",
     "output_type": "stream",
     "text": [
      "C:\\Users\\k0105\\anaconda3\\lib\\site-packages\\seaborn\\utils.py:95: UserWarning: Glyph 8722 (\\N{MINUS SIGN}) missing from current font.\n",
      "  fig.canvas.draw()\n"
     ]
    },
    {
     "data": {
      "image/png": "[encoded data removed]",
      "text/plain": [
       "<Figure size 400x300 with 2 Axes>"
      ]
     },
     "metadata": {},
     "output_type": "display_data"
    }
   ],
   "source": [
    "plt.figure(figsize=(4, 3))\n",
    "plt.title('Correlation in data')\n",
    "sns.heatmap(decks.corr(), annot=True, fmt=\".2f\")\n",
    "plt.show()"
   ]
  },
  {
   "cell_type": "code",
   "execution_count": null,
   "id": "d8b21a7b",
   "metadata": {},
   "outputs": [],
   "source": []
  },
  {
   "cell_type": "markdown",
   "id": "98225228",
   "metadata": {},
   "source": [
    "### Maximum"
   ]
  },
  {
   "cell_type": "markdown",
   "id": "6b3b5afc",
   "metadata": {},
   "source": [
    "#### Deck"
   ]
  },
  {
   "cell_type": "markdown",
   "id": "57cab879",
   "metadata": {},
   "source": [
    "##### The most expensive deck"
   ]
  },
  {
   "cell_type": "code",
   "execution_count": 120,
   "id": "e2474bb9",
   "metadata": {},
   "outputs": [
    {
     "data": {
      "text/html": [
       "<div>\n",
       "<style scoped>\n",
       "    .dataframe tbody tr th:only-of-type {\n",
       "        vertical-align: middle;\n",
       "    }\n",
       "\n",
       "    .dataframe tbody tr th {\n",
       "        vertical-align: top;\n",
       "    }\n",
       "\n",
       "    .dataframe thead th {\n",
       "        text-align: right;\n",
       "    }\n",
       "</style>\n",
       "<table border=\"1\" class=\"dataframe\">\n",
       "  <thead>\n",
       "    <tr style=\"text-align: right;\">\n",
       "      <th></th>\n",
       "      <th>클래스</th>\n",
       "      <th>이름</th>\n",
       "      <th>가루량</th>\n",
       "      <th>승률</th>\n",
       "      <th>판수</th>\n",
       "      <th>게임시간</th>\n",
       "    </tr>\n",
       "  </thead>\n",
       "  <tbody>\n",
       "    <tr>\n",
       "      <th>8</th>\n",
       "      <td>DEATHKNIGHT</td>\n",
       "      <td>Blood Death Knight</td>\n",
       "      <td>14720</td>\n",
       "      <td>54.0</td>\n",
       "      <td>4300</td>\n",
       "      <td>11.0</td>\n",
       "    </tr>\n",
       "  </tbody>\n",
       "</table>\n",
       "</div>"
      ],
      "text/plain": [
       "           클래스                  이름    가루량    승률    판수  게임시간\n",
       "8  DEATHKNIGHT  Blood Death Knight  14720  54.0  4300  11.0"
      ]
     },
     "execution_count": 120,
     "metadata": {},
     "output_type": "execute_result"
    }
   ],
   "source": [
    "decks[decks[\"가루량\"]==decks[\"가루량\"].max()]"
   ]
  },
  {
   "cell_type": "markdown",
   "id": "4a2667e2",
   "metadata": {},
   "source": [
    "##### Deck with the most wins"
   ]
  },
  {
   "cell_type": "code",
   "execution_count": 121,
   "id": "fd396b7d",
   "metadata": {},
   "outputs": [
    {
     "data": {
      "text/html": [
       "<div>\n",
       "<style scoped>\n",
       "    .dataframe tbody tr th:only-of-type {\n",
       "        vertical-align: middle;\n",
       "    }\n",
       "\n",
       "    .dataframe tbody tr th {\n",
       "        vertical-align: top;\n",
       "    }\n",
       "\n",
       "    .dataframe thead th {\n",
       "        text-align: right;\n",
       "    }\n",
       "</style>\n",
       "<table border=\"1\" class=\"dataframe\">\n",
       "  <thead>\n",
       "    <tr style=\"text-align: right;\">\n",
       "      <th></th>\n",
       "      <th>클래스</th>\n",
       "      <th>이름</th>\n",
       "      <th>가루량</th>\n",
       "      <th>승률</th>\n",
       "      <th>판수</th>\n",
       "      <th>게임시간</th>\n",
       "    </tr>\n",
       "  </thead>\n",
       "  <tbody>\n",
       "    <tr>\n",
       "      <th>2</th>\n",
       "      <td>DEATHKNIGHT</td>\n",
       "      <td>Unholy Death Knight</td>\n",
       "      <td>6300</td>\n",
       "      <td>61.5</td>\n",
       "      <td>14000</td>\n",
       "      <td>7.5</td>\n",
       "    </tr>\n",
       "  </tbody>\n",
       "</table>\n",
       "</div>"
      ],
      "text/plain": [
       "           클래스                   이름   가루량    승률     판수  게임시간\n",
       "2  DEATHKNIGHT  Unholy Death Knight  6300  61.5  14000   7.5"
      ]
     },
     "execution_count": 121,
     "metadata": {},
     "output_type": "execute_result"
    }
   ],
   "source": [
    "decks[decks[\"승률\"]==decks[\"승률\"].max()]"
   ]
  },
  {
   "cell_type": "markdown",
   "id": "40afe7f8",
   "metadata": {},
   "source": [
    "##### The most played deck"
   ]
  },
  {
   "cell_type": "code",
   "execution_count": 122,
   "id": "2b4b8af5",
   "metadata": {},
   "outputs": [
    {
     "data": {
      "text/html": [
       "<div>\n",
       "<style scoped>\n",
       "    .dataframe tbody tr th:only-of-type {\n",
       "        vertical-align: middle;\n",
       "    }\n",
       "\n",
       "    .dataframe tbody tr th {\n",
       "        vertical-align: top;\n",
       "    }\n",
       "\n",
       "    .dataframe thead th {\n",
       "        text-align: right;\n",
       "    }\n",
       "</style>\n",
       "<table border=\"1\" class=\"dataframe\">\n",
       "  <thead>\n",
       "    <tr style=\"text-align: right;\">\n",
       "      <th></th>\n",
       "      <th>클래스</th>\n",
       "      <th>이름</th>\n",
       "      <th>가루량</th>\n",
       "      <th>승률</th>\n",
       "      <th>판수</th>\n",
       "      <th>게임시간</th>\n",
       "    </tr>\n",
       "  </thead>\n",
       "  <tbody>\n",
       "    <tr>\n",
       "      <th>0</th>\n",
       "      <td>DEATHKNIGHT</td>\n",
       "      <td>Unholy Death Knight</td>\n",
       "      <td>4680</td>\n",
       "      <td>61.1</td>\n",
       "      <td>43000</td>\n",
       "      <td>7.7</td>\n",
       "    </tr>\n",
       "  </tbody>\n",
       "</table>\n",
       "</div>"
      ],
      "text/plain": [
       "           클래스                   이름   가루량    승률     판수  게임시간\n",
       "0  DEATHKNIGHT  Unholy Death Knight  4680  61.1  43000   7.7"
      ]
     },
     "execution_count": 122,
     "metadata": {},
     "output_type": "execute_result"
    }
   ],
   "source": [
    "decks[decks[\"판수\"]==decks[\"판수\"].max()]"
   ]
  },
  {
   "cell_type": "markdown",
   "id": "d33ef783",
   "metadata": {},
   "source": [
    "##### The class with the most decks"
   ]
  },
  {
   "cell_type": "code",
   "execution_count": 123,
   "id": "40bf17d9",
   "metadata": {},
   "outputs": [
    {
     "data": {
      "text/plain": [
       "0    DEATHKNIGHT\n",
       "Name: 클래스, dtype: object"
      ]
     },
     "execution_count": 123,
     "metadata": {},
     "output_type": "execute_result"
    }
   ],
   "source": [
    "decks[\"클래스\"].mode()"
   ]
  },
  {
   "cell_type": "markdown",
   "id": "d924bbce",
   "metadata": {},
   "source": [
    "#### Class"
   ]
  },
  {
   "cell_type": "markdown",
   "id": "3fdc0ddd",
   "metadata": {},
   "source": [
    "* 데이터 프레임 생성\n",
    "    * 악마사냥꾼 : DEMONHUNTER\n",
    "    * 드루이드 : DRUID\n",
    "    * 사냥꾼 : HUNTER\n",
    "    * 마법사 : MAGE\n",
    "    * 성기사 : PALADIN\n",
    "    * 사제 : PRIEST\n",
    "    * 도적 : ROGUE\n",
    "    * 주술사 : SHAMAN\n",
    "    * 흑마법사 : WARLOCK\n",
    "    * 전사 : WARRIOR"
   ]
  },
  {
   "cell_type": "code",
   "execution_count": 21,
   "id": "bca36632",
   "metadata": {},
   "outputs": [
    {
     "data": {
      "text/html": [
       "<div>\n",
       "<style scoped>\n",
       "    .dataframe tbody tr th:only-of-type {\n",
       "        vertical-align: middle;\n",
       "    }\n",
       "\n",
       "    .dataframe tbody tr th {\n",
       "        vertical-align: top;\n",
       "    }\n",
       "\n",
       "    .dataframe thead th {\n",
       "        text-align: right;\n",
       "    }\n",
       "</style>\n",
       "<table border=\"1\" class=\"dataframe\">\n",
       "  <thead>\n",
       "    <tr style=\"text-align: right;\">\n",
       "      <th></th>\n",
       "      <th>클래스</th>\n",
       "      <th>총 판수</th>\n",
       "      <th>승률</th>\n",
       "    </tr>\n",
       "  </thead>\n",
       "  <tbody>\n",
       "    <tr>\n",
       "      <th>0</th>\n",
       "      <td>DEMONHUNTER</td>\n",
       "      <td>31440</td>\n",
       "      <td>51.525000</td>\n",
       "    </tr>\n",
       "    <tr>\n",
       "      <th>1</th>\n",
       "      <td>DRUID</td>\n",
       "      <td>49190</td>\n",
       "      <td>54.016667</td>\n",
       "    </tr>\n",
       "    <tr>\n",
       "      <th>2</th>\n",
       "      <td>HUNTER</td>\n",
       "      <td>55920</td>\n",
       "      <td>59.540000</td>\n",
       "    </tr>\n",
       "    <tr>\n",
       "      <th>3</th>\n",
       "      <td>MAGE</td>\n",
       "      <td>147830</td>\n",
       "      <td>53.504651</td>\n",
       "    </tr>\n",
       "    <tr>\n",
       "      <th>4</th>\n",
       "      <td>PALADIN</td>\n",
       "      <td>76230</td>\n",
       "      <td>56.659259</td>\n",
       "    </tr>\n",
       "    <tr>\n",
       "      <th>5</th>\n",
       "      <td>PRIEST</td>\n",
       "      <td>35840</td>\n",
       "      <td>51.125000</td>\n",
       "    </tr>\n",
       "    <tr>\n",
       "      <th>6</th>\n",
       "      <td>ROGUE</td>\n",
       "      <td>50190</td>\n",
       "      <td>49.111765</td>\n",
       "    </tr>\n",
       "    <tr>\n",
       "      <th>7</th>\n",
       "      <td>SHAMAN</td>\n",
       "      <td>90250</td>\n",
       "      <td>55.400000</td>\n",
       "    </tr>\n",
       "    <tr>\n",
       "      <th>8</th>\n",
       "      <td>WARLOCK</td>\n",
       "      <td>86060</td>\n",
       "      <td>55.025000</td>\n",
       "    </tr>\n",
       "    <tr>\n",
       "      <th>9</th>\n",
       "      <td>WARRIOR</td>\n",
       "      <td>13640</td>\n",
       "      <td>52.333333</td>\n",
       "    </tr>\n",
       "  </tbody>\n",
       "</table>\n",
       "</div>"
      ],
      "text/plain": [
       "           클래스    총 판수         승률\n",
       "0  DEMONHUNTER   31440  51.525000\n",
       "1        DRUID   49190  54.016667\n",
       "2       HUNTER   55920  59.540000\n",
       "3         MAGE  147830  53.504651\n",
       "4      PALADIN   76230  56.659259\n",
       "5       PRIEST   35840  51.125000\n",
       "6        ROGUE   50190  49.111765\n",
       "7       SHAMAN   90250  55.400000\n",
       "8      WARLOCK   86060  55.025000\n",
       "9      WARRIOR   13640  52.333333"
      ]
     },
     "execution_count": 21,
     "metadata": {},
     "output_type": "execute_result"
    }
   ],
   "source": [
    "classList = [\"DEMONHUNTER\",\"DRUID\",\"HUNTER\",\"MAGE\",\"PALADIN\",\"PRIEST\",\"ROGUE\",\"SHAMAN\",\"WARLOCK\",\"WARRIOR\"]\n",
    "classDataframe = []\n",
    "for className in classList:\n",
    "    classData = {\"클래스\":className}\n",
    "    classDecks = decks[decks[\"클래스\"]==className]\n",
    "    classData[\"총 판수\"] = classDecks[\"판수\"].sum()\n",
    "    classData[\"승률\"] = classDecks[\"승률\"].mean()\n",
    "    classDataframe.append(classData)\n",
    "classDataframe = pd.DataFrame(classDataframe)\n",
    "classDataframe"
   ]
  },
  {
   "cell_type": "markdown",
   "id": "f9ffd30f",
   "metadata": {},
   "source": [
    "##### Class with the most wins"
   ]
  },
  {
   "cell_type": "code",
   "execution_count": 20,
   "id": "c8610199",
   "metadata": {},
   "outputs": [
    {
     "ename": "NameError",
     "evalue": "name 'classDataframe' is not defined",
     "output_type": "error",
     "traceback": [
      "\u001b[1;31m---------------------------------------------------------------------------\u001b[0m",
      "\u001b[1;31mNameError\u001b[0m                                 Traceback (most recent call last)",
      "\u001b[1;32m~\\AppData\\Local\\Temp\\ipykernel_5380\\3711310203.py\u001b[0m in \u001b[0;36m<module>\u001b[1;34m\u001b[0m\n\u001b[1;32m----> 1\u001b[1;33m \u001b[0mclassDataframe\u001b[0m\u001b[1;33m[\u001b[0m\u001b[0mclassDataframe\u001b[0m\u001b[1;33m[\u001b[0m\u001b[1;34m\"승률\"\u001b[0m\u001b[1;33m]\u001b[0m\u001b[1;33m==\u001b[0m\u001b[0mclassDataframe\u001b[0m\u001b[1;33m[\u001b[0m\u001b[1;34m\"승률\"\u001b[0m\u001b[1;33m]\u001b[0m\u001b[1;33m.\u001b[0m\u001b[0mmax\u001b[0m\u001b[1;33m(\u001b[0m\u001b[1;33m)\u001b[0m\u001b[1;33m]\u001b[0m\u001b[1;33m\u001b[0m\u001b[1;33m\u001b[0m\u001b[0m\n\u001b[0m",
      "\u001b[1;31mNameError\u001b[0m: name 'classDataframe' is not defined"
     ]
    }
   ],
   "source": [
    "classDataframe[classDataframe[\"승률\"]==classDataframe[\"승률\"].max()]"
   ]
  },
  {
   "cell_type": "markdown",
   "id": "594b0735",
   "metadata": {},
   "source": [
    "##### The most played class"
   ]
  },
  {
   "cell_type": "code",
   "execution_count": null,
   "id": "8366aeea",
   "metadata": {},
   "outputs": [],
   "source": [
    "classDataframe[classDataframe[\"총 판수\"]==classDataframe[\"총 판수\"].max()]"
   ]
  },
  {
   "cell_type": "markdown",
   "id": "47ded5b3",
   "metadata": {},
   "source": [
    "* 분석 종료 후, 드라이버 종료"
   ]
  },
  {
   "cell_type": "code",
   "execution_count": null,
   "id": "0bf87c84",
   "metadata": {},
   "outputs": [],
   "source": [
    "driver.quit()"
   ]
  },
  {
   "cell_type": "markdown",
   "id": "81219050",
   "metadata": {},
   "source": [
    "____\n",
    "* 12월 10일 진행"
   ]
  },
  {
   "cell_type": "markdown",
   "id": "56c05703",
   "metadata": {},
   "source": [
    "# LoL"
   ]
  },
  {
   "cell_type": "markdown",
   "id": "d2802173",
   "metadata": {},
   "source": [
    "## Summoner info scraping"
   ]
  },
  {
   "cell_type": "markdown",
   "id": "49774263",
   "metadata": {},
   "source": [
    "### Get API Key using Riot API"
   ]
  },
  {
   "cell_type": "markdown",
   "id": "96785952",
   "metadata": {},
   "source": [
    "## https://developer.riotgames.com/"
   ]
  },
  {
   "cell_type": "markdown",
   "id": "51511a30",
   "metadata": {},
   "source": [
    "1. 롤 계정 로그인\n",
    "    * 없을 시, sign up\n",
    "    * 휴면계정일 경우, 해제 후 게임에 진입하여 닉네임 재설정\n",
    "    * 재로그인\n",
    "2. DASHBOARD 진입\n",
    "    * 로그인 시, 자동 진입\n",
    "3. DEVELOPMENT API KEY 복사\n",
    "\n",
    "유효기간은 24시간, 1초에 20개 2분에 100개 제한"
   ]
  },
  {
   "cell_type": "code",
   "execution_count": 131,
   "id": "a592f2aa",
   "metadata": {},
   "outputs": [],
   "source": [
    "api_key = 'RGAPI-279a4616-e333-4dca-a369-a062542a5a9c'"
   ]
  },
  {
   "cell_type": "markdown",
   "id": "e4f5665c",
   "metadata": {},
   "source": [
    "### Get summoner info"
   ]
  },
  {
   "cell_type": "markdown",
   "id": "9bbb14c0",
   "metadata": {},
   "source": [
    "* summoner_name에 닉네임 할당"
   ]
  },
  {
   "cell_type": "code",
   "execution_count": 132,
   "id": "c3709c53",
   "metadata": {},
   "outputs": [
    {
     "data": {
      "text/plain": [
       "{'id': 'iRbqi3y8cAEmWkNqFqAqYrI_cLCh5pt3rosvdqTMw1f2VR77',\n",
       " 'accountId': 'REFo7EFym5fBK_j_K6m6hUsVm2FbQvbnslpYyr94NzhYwFK3HHgFGkhb',\n",
       " 'puuid': 'jDs7rYKkBt14gCDo_9QJqla58jmH607PhrDtTzkoIoMZ6KXXtY_ZszyOzmembEyYVO09s3iXvxz4Lw',\n",
       " 'name': 'Pyeon Su hui',\n",
       " 'profileIconId': 4833,\n",
       " 'revisionDate': 1676036639825,\n",
       " 'summonerLevel': 293}"
      ]
     },
     "execution_count": 132,
     "metadata": {},
     "output_type": "execute_result"
    }
   ],
   "source": [
    "summoner_name = \"Pyeon Su hui\"\n",
    "url = \"https://kr.api.riotgames.com/lol/summoner/v4/summoners/by-name/\" + summoner_name +'?api_key=' + api_key\n",
    "summoner_info = requests.get(url).json()\n",
    "summoner_info"
   ]
  },
  {
   "cell_type": "markdown",
   "id": "7e086add",
   "metadata": {},
   "source": [
    "#### Get the ID of the recent match"
   ]
  },
  {
   "cell_type": "code",
   "execution_count": 133,
   "id": "5fe48184",
   "metadata": {},
   "outputs": [],
   "source": [
    "puuid = summoner_info['puuid']\n",
    "count = \"100\"\n",
    "url = \"https://asia.api.riotgames.com/lol/match/v5/matches/by-puuid/\"+ puuid + \"/ids?api_key=\" + api_key +\"&count=\" + count\n",
    "match_ids = requests.get(url).json()"
   ]
  },
  {
   "cell_type": "code",
   "execution_count": 134,
   "id": "0e9ed9f7",
   "metadata": {},
   "outputs": [
    {
     "name": "stderr",
     "output_type": "stream",
     "text": [
      "100%|████████████████████████████████████████████████████████████████████████████████| 100/100 [00:36<00:00,  2.76it/s]\n"
     ]
    },
    {
     "data": {
      "text/html": [
       "<div>\n",
       "<style scoped>\n",
       "    .dataframe tbody tr th:only-of-type {\n",
       "        vertical-align: middle;\n",
       "    }\n",
       "\n",
       "    .dataframe tbody tr th {\n",
       "        vertical-align: top;\n",
       "    }\n",
       "\n",
       "    .dataframe thead th {\n",
       "        text-align: right;\n",
       "    }\n",
       "</style>\n",
       "<table border=\"1\" class=\"dataframe\">\n",
       "  <thead>\n",
       "    <tr style=\"text-align: right;\">\n",
       "      <th></th>\n",
       "      <th>매치아이디</th>\n",
       "      <th>게임모드</th>\n",
       "      <th>매치시간</th>\n",
       "      <th>챔피언</th>\n",
       "      <th>킬</th>\n",
       "      <th>데스</th>\n",
       "      <th>어시스트</th>\n",
       "      <th>결과</th>\n",
       "    </tr>\n",
       "  </thead>\n",
       "  <tbody>\n",
       "    <tr>\n",
       "      <th>0</th>\n",
       "      <td>KR_6355396252</td>\n",
       "      <td>CLASSIC</td>\n",
       "      <td>1676035059069</td>\n",
       "      <td>Blitzcrank</td>\n",
       "      <td>2</td>\n",
       "      <td>12</td>\n",
       "      <td>12</td>\n",
       "      <td>패배</td>\n",
       "    </tr>\n",
       "    <tr>\n",
       "      <th>1</th>\n",
       "      <td>KR_6355314541</td>\n",
       "      <td>CLASSIC</td>\n",
       "      <td>1676033218761</td>\n",
       "      <td>Blitzcrank</td>\n",
       "      <td>7</td>\n",
       "      <td>4</td>\n",
       "      <td>15</td>\n",
       "      <td>승리</td>\n",
       "    </tr>\n",
       "    <tr>\n",
       "      <th>2</th>\n",
       "      <td>KR_6355241881</td>\n",
       "      <td>CLASSIC</td>\n",
       "      <td>1676031645896</td>\n",
       "      <td>Blitzcrank</td>\n",
       "      <td>5</td>\n",
       "      <td>3</td>\n",
       "      <td>18</td>\n",
       "      <td>승리</td>\n",
       "    </tr>\n",
       "    <tr>\n",
       "      <th>3</th>\n",
       "      <td>KR_6353931467</td>\n",
       "      <td>CLASSIC</td>\n",
       "      <td>1675954311699</td>\n",
       "      <td>Blitzcrank</td>\n",
       "      <td>4</td>\n",
       "      <td>3</td>\n",
       "      <td>19</td>\n",
       "      <td>승리</td>\n",
       "    </tr>\n",
       "    <tr>\n",
       "      <th>4</th>\n",
       "      <td>KR_6353865224</td>\n",
       "      <td>CLASSIC</td>\n",
       "      <td>1675952538087</td>\n",
       "      <td>Lissandra</td>\n",
       "      <td>7</td>\n",
       "      <td>5</td>\n",
       "      <td>11</td>\n",
       "      <td>승리</td>\n",
       "    </tr>\n",
       "  </tbody>\n",
       "</table>\n",
       "</div>"
      ],
      "text/plain": [
       "           매치아이디     게임모드           매치시간         챔피언  킬  데스  어시스트  결과\n",
       "0  KR_6355396252  CLASSIC  1676035059069  Blitzcrank  2  12    12  패배\n",
       "1  KR_6355314541  CLASSIC  1676033218761  Blitzcrank  7   4    15  승리\n",
       "2  KR_6355241881  CLASSIC  1676031645896  Blitzcrank  5   3    18  승리\n",
       "3  KR_6353931467  CLASSIC  1675954311699  Blitzcrank  4   3    19  승리\n",
       "4  KR_6353865224  CLASSIC  1675952538087   Lissandra  7   5    11  승리"
      ]
     },
     "execution_count": 134,
     "metadata": {},
     "output_type": "execute_result"
    }
   ],
   "source": [
    "matches = []\n",
    "for match_id in tqdm(match_ids):\n",
    "    match = {}\n",
    "    url = \"https://asia.api.riotgames.com/lol/match/v5/matches/\"+match_id+\"?api_key=\"+api_key\n",
    "    result = requests.get(url).json()\n",
    "    if 'status' in result : continue\n",
    "    match['매치아이디'] = match_id\n",
    "    match['게임모드'] = result['info']['gameMode']\n",
    "    match['매치시간'] = result['info']['gameStartTimestamp']\n",
    "    my_participants = list(filter(lambda x: x['summonerName']==summoner_name, result['info']['participants']))[0]\n",
    "    match['챔피언'] = my_participants['championName']\n",
    "    match['킬'] = my_participants['kills']\n",
    "    match['데스'] = my_participants['deaths']\n",
    "    match['어시스트'] = my_participants['assists']\n",
    "    match['결과'] = '승리' if my_participants['win'] else '패배'\n",
    "    matches.append(match)\n",
    "matches = pd.DataFrame(matches)\n",
    "matches.head()"
   ]
  },
  {
   "cell_type": "markdown",
   "id": "410122fe",
   "metadata": {},
   "source": [
    "### Data analysis"
   ]
  },
  {
   "cell_type": "markdown",
   "id": "e5d29682",
   "metadata": {},
   "source": [
    "#### Keyboard input frequency"
   ]
  },
  {
   "cell_type": "markdown",
   "id": "6dd8a6a4",
   "metadata": {},
   "source": [
    "##### Installation"
   ]
  },
  {
   "cell_type": "code",
   "execution_count": 129,
   "id": "68f14c8d",
   "metadata": {},
   "outputs": [
    {
     "name": "stdout",
     "output_type": "stream",
     "text": [
      "Collecting pynput\n",
      "  Downloading pynput-1.7.6-py2.py3-none-any.whl (89 kB)\n",
      "     ---------------------------------------- 89.2/89.2 kB 4.9 MB/s eta 0:00:00\n",
      "Requirement already satisfied: six in c:\\users\\k0105\\anaconda3\\lib\\site-packages (from pynput) (1.16.0)\n",
      "Installing collected packages: pynput\n",
      "Successfully installed pynput-1.7.6\n"
     ]
    }
   ],
   "source": [
    "!pip install pynput"
   ]
  },
  {
   "cell_type": "markdown",
   "id": "a8c9ca05",
   "metadata": {},
   "source": [
    "##### How to use"
   ]
  },
  {
   "cell_type": "markdown",
   "id": "33032b9f",
   "metadata": {},
   "source": [
    "* 아래 셀을 가급적 실행하지 말 것\n",
    "    * 주피터 노트북 상에도 동작은 하지만 웹에서 동작하는 것만큼 입력에 제한을 받음\n",
    "* 파이썬이 설치되었다는 가정하에, 파이썬 파일 작성\n",
    "* 실제 수업에선 직접 타이핑하고 확인하는 시간을 가져보면 시간 면에서 좋을듯함\n",
    "    * 실제 인게임에서도 작동이 되는지 등\n",
    "* 쓸데없는 입력을 방지하고자 게임 직전에 실행, 더블 모니터 이상이면 상관없음\n",
    "* F4 입력하면 종료\n",
    "    * 종료됨과 동시에 플로팅 및 파일 저장\n",
    "    * 데이터는 덮어쓰기 형식으로 데이터가 누적되도록 함\n",
    "* 채팅에 사용하는 타이핑은 안 받도록 플래그 처리해둠"
   ]
  },
  {
   "cell_type": "markdown",
   "id": "7db7f8e9",
   "metadata": {},
   "source": [
    "##### Code"
   ]
  },
  {
   "cell_type": "code",
   "execution_count": null,
   "id": "e9ca97cc",
   "metadata": {},
   "outputs": [
    {
     "name": "stdout",
     "output_type": "stream",
     "text": [
      "Recording start..\n",
      "\n",
      "Key.enter release\n",
      "Key.ctrl_l release\n",
      "Key.enter release\n",
      "Key.enter release\n",
      "Key.ctrl_l release\n",
      "Key.tab release\n",
      "Key.ctrl_l release\n",
      "Key.up release\n",
      "Key.down release\n",
      "Key.up release\n",
      "Key.down release\n",
      "Key.enter release\n",
      "Key.ctrl_l release\n",
      "Key.down release\n",
      "Key.enter release\n",
      "Key.ctrl_l release\n"
     ]
    }
   ],
   "source": [
    "from pynput.keyboard import Key, Listener\n",
    "import numpy as np\n",
    "import pandas as pd\n",
    "import matplotlib.pyplot as plt\n",
    "import os\n",
    "\n",
    "\n",
    "class main:\n",
    "    def __init__(self):\n",
    "        self.key_frequency = {'q': 0, 'w': 0, 'e': 0, 'r': 0, 'd': 0, 'f': 0, '1': 0, '2': 0, '3': 0, '5': 0, '6': 0,\n",
    "                              '7': 0, '4': 0}\n",
    "        self.flag = 1\n",
    "\n",
    "    def on_release(self, key):\n",
    "        data = str(key)[1:-1].lower()\n",
    "\n",
    "        if key == Key.enter:\n",
    "            self.flag *= -1\n",
    "\n",
    "        if self.flag == 1 and data in self.key_frequency.keys():\n",
    "            self.key_frequency[data] += 1\n",
    "\n",
    "        print('{0} release'.format(key))\n",
    "        if key == Key.f4:\n",
    "            return False\n",
    "\n",
    "    def convert_df(self):\n",
    "        return pd.DataFrame(self.key_frequency, index=[0])\n",
    "\n",
    "    def save_df(self):\n",
    "        if not os.path.exists('key_freq.csv'):\n",
    "            self.convert_df().to_csv('key_freq.csv', mode='w', index=False)\n",
    "        else:\n",
    "            self.convert_df().to_csv('key_freq.csv', mode='a', index=False, header=False)\n",
    "\n",
    "    def visualize(self):\n",
    "        key_df = self.convert_df()\n",
    "\n",
    "        x = np.arange(len(key_df.columns))\n",
    "        plt.figure(figsize=(6, 6))\n",
    "        plt.title('Keyboard Frequency')\n",
    "        plt.grid(axis='y')\n",
    "        plt.xticks(x, key_df.columns)\n",
    "        plt.bar(x, key_df.iloc[-1])\n",
    "        plt.show()\n",
    "\n",
    "    def run(self):\n",
    "        print('Recording start..\\n')\n",
    "        with Listener(on_release=self.on_release) as listener:\n",
    "            listener.join()\n",
    "        self.save_df()\n",
    "        self.visualize()\n",
    "\n",
    "\n",
    "if __name__ == '__main__':\n",
    "    main().run()"
   ]
  },
  {
   "cell_type": "code",
   "execution_count": null,
   "id": "17bca1b6",
   "metadata": {},
   "outputs": [],
   "source": [
    "key_df = pd.read_csv('./빈도 체크/key_freq.csv')\n",
    "key_df"
   ]
  },
  {
   "cell_type": "code",
   "execution_count": null,
   "id": "d1b72cbe",
   "metadata": {},
   "outputs": [],
   "source": [
    "plt.title('Keyboard Frequency')\n",
    "sns.barplot(x=key_df.columns, y=key_df.values[0])\n",
    "plt.show()"
   ]
  },
  {
   "cell_type": "markdown",
   "id": "56329e17",
   "metadata": {},
   "source": [
    "#### 칼바람"
   ]
  },
  {
   "cell_type": "code",
   "execution_count": 137,
   "id": "e7e1c5d5",
   "metadata": {},
   "outputs": [
    {
     "data": {
      "text/html": [
       "<div>\n",
       "<style scoped>\n",
       "    .dataframe tbody tr th:only-of-type {\n",
       "        vertical-align: middle;\n",
       "    }\n",
       "\n",
       "    .dataframe tbody tr th {\n",
       "        vertical-align: top;\n",
       "    }\n",
       "\n",
       "    .dataframe thead th {\n",
       "        text-align: right;\n",
       "    }\n",
       "</style>\n",
       "<table border=\"1\" class=\"dataframe\">\n",
       "  <thead>\n",
       "    <tr style=\"text-align: right;\">\n",
       "      <th></th>\n",
       "      <th>매치아이디</th>\n",
       "      <th>게임모드</th>\n",
       "      <th>매치시간</th>\n",
       "      <th>챔피언</th>\n",
       "      <th>킬</th>\n",
       "      <th>데스</th>\n",
       "      <th>어시스트</th>\n",
       "      <th>결과</th>\n",
       "    </tr>\n",
       "  </thead>\n",
       "  <tbody>\n",
       "  </tbody>\n",
       "</table>\n",
       "</div>"
      ],
      "text/plain": [
       "Empty DataFrame\n",
       "Columns: [매치아이디, 게임모드, 매치시간, 챔피언, 킬, 데스, 어시스트, 결과]\n",
       "Index: []"
      ]
     },
     "execution_count": 137,
     "metadata": {},
     "output_type": "execute_result"
    }
   ],
   "source": [
    "aram_matches = matches[matches['게임모드'] == 'ARAM']\n",
    "aram_matches.head()"
   ]
  },
  {
   "cell_type": "markdown",
   "id": "10174cb4",
   "metadata": {},
   "source": [
    "##### KDA"
   ]
  },
  {
   "cell_type": "code",
   "execution_count": 138,
   "id": "fe5865e0",
   "metadata": {},
   "outputs": [
    {
     "name": "stdout",
     "output_type": "stream",
     "text": [
      "KDA : nan\n"
     ]
    },
    {
     "name": "stderr",
     "output_type": "stream",
     "text": [
      "C:\\Users\\k0105\\AppData\\Local\\Temp\\ipykernel_5380\\1719735897.py:1: RuntimeWarning: invalid value encountered in longlong_scalars\n",
      "  aram_ka_per_d = (aram_matches['킬'].sum() + aram_matches['어시스트'].sum())/aram_matches['데스'].sum()\n"
     ]
    }
   ],
   "source": [
    "aram_ka_per_d = (aram_matches['킬'].sum() + aram_matches['어시스트'].sum())/aram_matches['데스'].sum()\n",
    "print('KDA :',round(aram_ka_per_d,4))"
   ]
  },
  {
   "cell_type": "markdown",
   "id": "74c3ccbc",
   "metadata": {},
   "source": [
    "##### The most played champ"
   ]
  },
  {
   "cell_type": "code",
   "execution_count": 139,
   "id": "5b512d86",
   "metadata": {},
   "outputs": [
    {
     "ename": "KeyError",
     "evalue": "0",
     "output_type": "error",
     "traceback": [
      "\u001b[1;31m---------------------------------------------------------------------------\u001b[0m",
      "\u001b[1;31mValueError\u001b[0m                                Traceback (most recent call last)",
      "\u001b[1;32m~\\anaconda3\\lib\\site-packages\\pandas\\core\\indexes\\range.py\u001b[0m in \u001b[0;36mget_loc\u001b[1;34m(self, key, method, tolerance)\u001b[0m\n\u001b[0;32m    384\u001b[0m                 \u001b[1;32mtry\u001b[0m\u001b[1;33m:\u001b[0m\u001b[1;33m\u001b[0m\u001b[1;33m\u001b[0m\u001b[0m\n\u001b[1;32m--> 385\u001b[1;33m                     \u001b[1;32mreturn\u001b[0m \u001b[0mself\u001b[0m\u001b[1;33m.\u001b[0m\u001b[0m_range\u001b[0m\u001b[1;33m.\u001b[0m\u001b[0mindex\u001b[0m\u001b[1;33m(\u001b[0m\u001b[0mnew_key\u001b[0m\u001b[1;33m)\u001b[0m\u001b[1;33m\u001b[0m\u001b[1;33m\u001b[0m\u001b[0m\n\u001b[0m\u001b[0;32m    386\u001b[0m                 \u001b[1;32mexcept\u001b[0m \u001b[0mValueError\u001b[0m \u001b[1;32mas\u001b[0m \u001b[0merr\u001b[0m\u001b[1;33m:\u001b[0m\u001b[1;33m\u001b[0m\u001b[1;33m\u001b[0m\u001b[0m\n",
      "\u001b[1;31mValueError\u001b[0m: 0 is not in range",
      "\nThe above exception was the direct cause of the following exception:\n",
      "\u001b[1;31mKeyError\u001b[0m                                  Traceback (most recent call last)",
      "\u001b[1;32m~\\AppData\\Local\\Temp\\ipykernel_5380\\804738058.py\u001b[0m in \u001b[0;36m<module>\u001b[1;34m\u001b[0m\n\u001b[1;32m----> 1\u001b[1;33m \u001b[0maram_most_champion\u001b[0m \u001b[1;33m=\u001b[0m \u001b[0maram_matches\u001b[0m\u001b[1;33m[\u001b[0m\u001b[1;34m'챔피언'\u001b[0m\u001b[1;33m]\u001b[0m\u001b[1;33m.\u001b[0m\u001b[0mmode\u001b[0m\u001b[1;33m(\u001b[0m\u001b[1;33m)\u001b[0m\u001b[1;33m[\u001b[0m\u001b[1;36m0\u001b[0m\u001b[1;33m]\u001b[0m\u001b[1;33m\u001b[0m\u001b[1;33m\u001b[0m\u001b[0m\n\u001b[0m\u001b[0;32m      2\u001b[0m \u001b[0mprint\u001b[0m\u001b[1;33m(\u001b[0m\u001b[1;34m'가장 많이 플레이한 챔피언 :'\u001b[0m\u001b[1;33m,\u001b[0m\u001b[0maram_most_champion\u001b[0m\u001b[1;33m)\u001b[0m\u001b[1;33m\u001b[0m\u001b[1;33m\u001b[0m\u001b[0m\n",
      "\u001b[1;32m~\\anaconda3\\lib\\site-packages\\pandas\\core\\series.py\u001b[0m in \u001b[0;36m__getitem__\u001b[1;34m(self, key)\u001b[0m\n\u001b[0;32m    956\u001b[0m \u001b[1;33m\u001b[0m\u001b[0m\n\u001b[0;32m    957\u001b[0m         \u001b[1;32melif\u001b[0m \u001b[0mkey_is_scalar\u001b[0m\u001b[1;33m:\u001b[0m\u001b[1;33m\u001b[0m\u001b[1;33m\u001b[0m\u001b[0m\n\u001b[1;32m--> 958\u001b[1;33m             \u001b[1;32mreturn\u001b[0m \u001b[0mself\u001b[0m\u001b[1;33m.\u001b[0m\u001b[0m_get_value\u001b[0m\u001b[1;33m(\u001b[0m\u001b[0mkey\u001b[0m\u001b[1;33m)\u001b[0m\u001b[1;33m\u001b[0m\u001b[1;33m\u001b[0m\u001b[0m\n\u001b[0m\u001b[0;32m    959\u001b[0m \u001b[1;33m\u001b[0m\u001b[0m\n\u001b[0;32m    960\u001b[0m         \u001b[1;32mif\u001b[0m \u001b[0mis_hashable\u001b[0m\u001b[1;33m(\u001b[0m\u001b[0mkey\u001b[0m\u001b[1;33m)\u001b[0m\u001b[1;33m:\u001b[0m\u001b[1;33m\u001b[0m\u001b[1;33m\u001b[0m\u001b[0m\n",
      "\u001b[1;32m~\\anaconda3\\lib\\site-packages\\pandas\\core\\series.py\u001b[0m in \u001b[0;36m_get_value\u001b[1;34m(self, label, takeable)\u001b[0m\n\u001b[0;32m   1067\u001b[0m \u001b[1;33m\u001b[0m\u001b[0m\n\u001b[0;32m   1068\u001b[0m         \u001b[1;31m# Similar to Index.get_value, but we do not fall back to positional\u001b[0m\u001b[1;33m\u001b[0m\u001b[1;33m\u001b[0m\u001b[0m\n\u001b[1;32m-> 1069\u001b[1;33m         \u001b[0mloc\u001b[0m \u001b[1;33m=\u001b[0m \u001b[0mself\u001b[0m\u001b[1;33m.\u001b[0m\u001b[0mindex\u001b[0m\u001b[1;33m.\u001b[0m\u001b[0mget_loc\u001b[0m\u001b[1;33m(\u001b[0m\u001b[0mlabel\u001b[0m\u001b[1;33m)\u001b[0m\u001b[1;33m\u001b[0m\u001b[1;33m\u001b[0m\u001b[0m\n\u001b[0m\u001b[0;32m   1070\u001b[0m         \u001b[1;32mreturn\u001b[0m \u001b[0mself\u001b[0m\u001b[1;33m.\u001b[0m\u001b[0mindex\u001b[0m\u001b[1;33m.\u001b[0m\u001b[0m_get_values_for_loc\u001b[0m\u001b[1;33m(\u001b[0m\u001b[0mself\u001b[0m\u001b[1;33m,\u001b[0m \u001b[0mloc\u001b[0m\u001b[1;33m,\u001b[0m \u001b[0mlabel\u001b[0m\u001b[1;33m)\u001b[0m\u001b[1;33m\u001b[0m\u001b[1;33m\u001b[0m\u001b[0m\n\u001b[0;32m   1071\u001b[0m \u001b[1;33m\u001b[0m\u001b[0m\n",
      "\u001b[1;32m~\\anaconda3\\lib\\site-packages\\pandas\\core\\indexes\\range.py\u001b[0m in \u001b[0;36mget_loc\u001b[1;34m(self, key, method, tolerance)\u001b[0m\n\u001b[0;32m    385\u001b[0m                     \u001b[1;32mreturn\u001b[0m \u001b[0mself\u001b[0m\u001b[1;33m.\u001b[0m\u001b[0m_range\u001b[0m\u001b[1;33m.\u001b[0m\u001b[0mindex\u001b[0m\u001b[1;33m(\u001b[0m\u001b[0mnew_key\u001b[0m\u001b[1;33m)\u001b[0m\u001b[1;33m\u001b[0m\u001b[1;33m\u001b[0m\u001b[0m\n\u001b[0;32m    386\u001b[0m                 \u001b[1;32mexcept\u001b[0m \u001b[0mValueError\u001b[0m \u001b[1;32mas\u001b[0m \u001b[0merr\u001b[0m\u001b[1;33m:\u001b[0m\u001b[1;33m\u001b[0m\u001b[1;33m\u001b[0m\u001b[0m\n\u001b[1;32m--> 387\u001b[1;33m                     \u001b[1;32mraise\u001b[0m \u001b[0mKeyError\u001b[0m\u001b[1;33m(\u001b[0m\u001b[0mkey\u001b[0m\u001b[1;33m)\u001b[0m \u001b[1;32mfrom\u001b[0m \u001b[0merr\u001b[0m\u001b[1;33m\u001b[0m\u001b[1;33m\u001b[0m\u001b[0m\n\u001b[0m\u001b[0;32m    388\u001b[0m             \u001b[0mself\u001b[0m\u001b[1;33m.\u001b[0m\u001b[0m_check_indexing_error\u001b[0m\u001b[1;33m(\u001b[0m\u001b[0mkey\u001b[0m\u001b[1;33m)\u001b[0m\u001b[1;33m\u001b[0m\u001b[1;33m\u001b[0m\u001b[0m\n\u001b[0;32m    389\u001b[0m             \u001b[1;32mraise\u001b[0m \u001b[0mKeyError\u001b[0m\u001b[1;33m(\u001b[0m\u001b[0mkey\u001b[0m\u001b[1;33m)\u001b[0m\u001b[1;33m\u001b[0m\u001b[1;33m\u001b[0m\u001b[0m\n",
      "\u001b[1;31mKeyError\u001b[0m: 0"
     ]
    }
   ],
   "source": [
    "aram_most_champion = aram_matches['챔피언'].mode()[0]\n",
    "print('가장 많이 플레이한 챔피언 :',aram_most_champion)"
   ]
  },
  {
   "cell_type": "markdown",
   "id": "db395b53",
   "metadata": {},
   "source": [
    "##### Winning rate"
   ]
  },
  {
   "cell_type": "code",
   "execution_count": null,
   "id": "e9d35e4a",
   "metadata": {},
   "outputs": [],
   "source": [
    "aram_win_rate = len(aram_matches[aram_matches['결과'] == '승리']) / len(aram_matches)\n",
    "print('승률 :', round(aram_win_rate*100,4),\"%\")"
   ]
  },
  {
   "cell_type": "markdown",
   "id": "a348ff18",
   "metadata": {},
   "source": [
    "#### 일반게임"
   ]
  },
  {
   "cell_type": "code",
   "execution_count": 175,
   "id": "c1d1e27c",
   "metadata": {},
   "outputs": [
    {
     "data": {
      "text/html": [
       "<div>\n",
       "<style scoped>\n",
       "    .dataframe tbody tr th:only-of-type {\n",
       "        vertical-align: middle;\n",
       "    }\n",
       "\n",
       "    .dataframe tbody tr th {\n",
       "        vertical-align: top;\n",
       "    }\n",
       "\n",
       "    .dataframe thead th {\n",
       "        text-align: right;\n",
       "    }\n",
       "</style>\n",
       "<table border=\"1\" class=\"dataframe\">\n",
       "  <thead>\n",
       "    <tr style=\"text-align: right;\">\n",
       "      <th></th>\n",
       "      <th>매치아이디</th>\n",
       "      <th>게임모드</th>\n",
       "      <th>매치시간</th>\n",
       "      <th>챔피언</th>\n",
       "      <th>킬</th>\n",
       "      <th>데스</th>\n",
       "      <th>어시스트</th>\n",
       "      <th>결과</th>\n",
       "    </tr>\n",
       "  </thead>\n",
       "  <tbody>\n",
       "    <tr>\n",
       "      <th>0</th>\n",
       "      <td>KR_6355396252</td>\n",
       "      <td>CLASSIC</td>\n",
       "      <td>1676035059069</td>\n",
       "      <td>Blitzcrank</td>\n",
       "      <td>2</td>\n",
       "      <td>12</td>\n",
       "      <td>12</td>\n",
       "      <td>패배</td>\n",
       "    </tr>\n",
       "    <tr>\n",
       "      <th>1</th>\n",
       "      <td>KR_6355314541</td>\n",
       "      <td>CLASSIC</td>\n",
       "      <td>1676033218761</td>\n",
       "      <td>Blitzcrank</td>\n",
       "      <td>7</td>\n",
       "      <td>4</td>\n",
       "      <td>15</td>\n",
       "      <td>승리</td>\n",
       "    </tr>\n",
       "    <tr>\n",
       "      <th>2</th>\n",
       "      <td>KR_6355241881</td>\n",
       "      <td>CLASSIC</td>\n",
       "      <td>1676031645896</td>\n",
       "      <td>Blitzcrank</td>\n",
       "      <td>5</td>\n",
       "      <td>3</td>\n",
       "      <td>18</td>\n",
       "      <td>승리</td>\n",
       "    </tr>\n",
       "    <tr>\n",
       "      <th>3</th>\n",
       "      <td>KR_6353931467</td>\n",
       "      <td>CLASSIC</td>\n",
       "      <td>1675954311699</td>\n",
       "      <td>Blitzcrank</td>\n",
       "      <td>4</td>\n",
       "      <td>3</td>\n",
       "      <td>19</td>\n",
       "      <td>승리</td>\n",
       "    </tr>\n",
       "    <tr>\n",
       "      <th>4</th>\n",
       "      <td>KR_6353865224</td>\n",
       "      <td>CLASSIC</td>\n",
       "      <td>1675952538087</td>\n",
       "      <td>Lissandra</td>\n",
       "      <td>7</td>\n",
       "      <td>5</td>\n",
       "      <td>11</td>\n",
       "      <td>승리</td>\n",
       "    </tr>\n",
       "  </tbody>\n",
       "</table>\n",
       "</div>"
      ],
      "text/plain": [
       "           매치아이디     게임모드           매치시간         챔피언  킬  데스  어시스트  결과\n",
       "0  KR_6355396252  CLASSIC  1676035059069  Blitzcrank  2  12    12  패배\n",
       "1  KR_6355314541  CLASSIC  1676033218761  Blitzcrank  7   4    15  승리\n",
       "2  KR_6355241881  CLASSIC  1676031645896  Blitzcrank  5   3    18  승리\n",
       "3  KR_6353931467  CLASSIC  1675954311699  Blitzcrank  4   3    19  승리\n",
       "4  KR_6353865224  CLASSIC  1675952538087   Lissandra  7   5    11  승리"
      ]
     },
     "execution_count": 175,
     "metadata": {},
     "output_type": "execute_result"
    }
   ],
   "source": [
    "classic_matches = matches[matches['게임모드'] == 'CLASSIC']\n",
    "classic_matches.head()"
   ]
  },
  {
   "cell_type": "markdown",
   "id": "6c41284e",
   "metadata": {},
   "source": [
    "##### KDA"
   ]
  },
  {
   "cell_type": "code",
   "execution_count": 176,
   "id": "129b700e",
   "metadata": {},
   "outputs": [
    {
     "name": "stdout",
     "output_type": "stream",
     "text": [
      "KDA : 2.452\n"
     ]
    }
   ],
   "source": [
    "classic_ka_per_d = (classic_matches['킬'].sum() + classic_matches['어시스트'].sum())/classic_matches['데스'].sum()\n",
    "print('KDA :',round(classic_ka_per_d,4))"
   ]
  },
  {
   "cell_type": "markdown",
   "id": "c0e13423",
   "metadata": {},
   "source": [
    "##### The most played champ"
   ]
  },
  {
   "cell_type": "code",
   "execution_count": 177,
   "id": "1b67c531",
   "metadata": {},
   "outputs": [
    {
     "name": "stdout",
     "output_type": "stream",
     "text": [
      "가장 많이 플레이한 챔피언 : Jax\n"
     ]
    }
   ],
   "source": [
    "classic_most_champion = classic_matches['챔피언'].mode()[0]\n",
    "print('가장 많이 플레이한 챔피언 :',classic_most_champion)"
   ]
  },
  {
   "cell_type": "markdown",
   "id": "7b703620",
   "metadata": {},
   "source": [
    "##### Winning rate"
   ]
  },
  {
   "cell_type": "code",
   "execution_count": 178,
   "id": "be774e12",
   "metadata": {},
   "outputs": [
    {
     "name": "stdout",
     "output_type": "stream",
     "text": [
      "승률 : 55.5556 %\n"
     ]
    }
   ],
   "source": [
    "classic_win_rate = len(classic_matches[classic_matches['결과'] == '승리']) / len(classic_matches)\n",
    "print('승률 :', round(classic_win_rate*100,4),\"%\")"
   ]
  },
  {
   "cell_type": "markdown",
   "id": "655caa85",
   "metadata": {},
   "source": [
    "##### Average"
   ]
  },
  {
   "cell_type": "markdown",
   "id": "1e2aa3ce",
   "metadata": {},
   "source": [
    "* 데이터 프레임 생성"
   ]
  },
  {
   "cell_type": "code",
   "execution_count": 179,
   "id": "952f60e3",
   "metadata": {},
   "outputs": [
    {
     "data": {
      "text/html": [
       "<div>\n",
       "<style scoped>\n",
       "    .dataframe tbody tr th:only-of-type {\n",
       "        vertical-align: middle;\n",
       "    }\n",
       "\n",
       "    .dataframe tbody tr th {\n",
       "        vertical-align: top;\n",
       "    }\n",
       "\n",
       "    .dataframe thead th {\n",
       "        text-align: right;\n",
       "    }\n",
       "</style>\n",
       "<table border=\"1\" class=\"dataframe\">\n",
       "  <thead>\n",
       "    <tr style=\"text-align: right;\">\n",
       "      <th></th>\n",
       "      <th>평균 킬</th>\n",
       "      <th>평균 데스</th>\n",
       "      <th>평균 어시스트</th>\n",
       "      <th>평균 승률</th>\n",
       "      <th>매치 수</th>\n",
       "    </tr>\n",
       "  </thead>\n",
       "  <tbody>\n",
       "    <tr>\n",
       "      <th>Ahri</th>\n",
       "      <td>2.5</td>\n",
       "      <td>5.0</td>\n",
       "      <td>6.0</td>\n",
       "      <td>0.5</td>\n",
       "      <td>2</td>\n",
       "    </tr>\n",
       "    <tr>\n",
       "      <th>Akali</th>\n",
       "      <td>3.0</td>\n",
       "      <td>7.0</td>\n",
       "      <td>11.0</td>\n",
       "      <td>1.0</td>\n",
       "      <td>1</td>\n",
       "    </tr>\n",
       "    <tr>\n",
       "      <th>Akshan</th>\n",
       "      <td>7.0</td>\n",
       "      <td>9.666667</td>\n",
       "      <td>8.666667</td>\n",
       "      <td>0.666667</td>\n",
       "      <td>3</td>\n",
       "    </tr>\n",
       "    <tr>\n",
       "      <th>Alistar</th>\n",
       "      <td>3.0</td>\n",
       "      <td>7.0</td>\n",
       "      <td>20.0</td>\n",
       "      <td>0.0</td>\n",
       "      <td>1</td>\n",
       "    </tr>\n",
       "    <tr>\n",
       "      <th>Anivia</th>\n",
       "      <td>0.0</td>\n",
       "      <td>1.0</td>\n",
       "      <td>5.0</td>\n",
       "      <td>1.0</td>\n",
       "      <td>1</td>\n",
       "    </tr>\n",
       "  </tbody>\n",
       "</table>\n",
       "</div>"
      ],
      "text/plain": [
       "        평균 킬     평균 데스   평균 어시스트     평균 승률 매치 수\n",
       "Ahri     2.5       5.0       6.0       0.5    2\n",
       "Akali    3.0       7.0      11.0       1.0    1\n",
       "Akshan   7.0  9.666667  8.666667  0.666667    3\n",
       "Alistar  3.0       7.0      20.0       0.0    1\n",
       "Anivia   0.0       1.0       5.0       1.0    1"
      ]
     },
     "execution_count": 179,
     "metadata": {},
     "output_type": "execute_result"
    }
   ],
   "source": [
    "res = np.array([])\n",
    "classinc_avg = classic_matches\n",
    "for champ in np.unique(classinc_avg['챔피언'].values):\n",
    "    data = classinc_avg.loc[classinc_avg['챔피언']== champ , '킬':].values\n",
    "    np.place(data, data == '승리', 1)\n",
    "    np.place(data, data == '패배', 0)\n",
    "    match_num = len(data)\n",
    "    data = data.mean(axis=0)\n",
    "    data = np.append(data, match_num)\n",
    "    res = np.append(res, data)\n",
    "\n",
    "res = pd.DataFrame(res.reshape(-1, 5))\n",
    "res.index = np.unique(classinc_avg['챔피언'].values)\n",
    "res.columns = ['평균 킬', '평균 데스', '평균 어시스트', '평균 승률', '매치 수']\n",
    "res.head()"
   ]
  },
  {
   "cell_type": "markdown",
   "id": "50267f2b",
   "metadata": {},
   "source": [
    "* 매치 수에 따른 플레이 횟수\n",
    "    * 1번만 플레이한 매치 = 24 = 24개의 챔프로 한 번씩만 플레이\n",
    "    * 3번 플레이한 매치 = 3 = 3개의 챔프로 3번씩 플레이"
   ]
  },
  {
   "cell_type": "code",
   "execution_count": 196,
   "id": "ad6f5a00",
   "metadata": {},
   "outputs": [
    {
     "data": {
      "text/plain": [
       "1     18\n",
       "2      5\n",
       "3      3\n",
       "22     2\n",
       "4      1\n",
       "8      1\n",
       "6      1\n",
       "Name: 매치 수, dtype: int64"
      ]
     },
     "execution_count": 196,
     "metadata": {},
     "output_type": "execute_result"
    }
   ],
   "source": [
    "res['매치 수'].value_counts()"
   ]
  },
  {
   "cell_type": "code",
   "execution_count": 197,
   "id": "6f37df7d",
   "metadata": {},
   "outputs": [
    {
     "data": {
      "text/html": [
       "<div>\n",
       "<style scoped>\n",
       "    .dataframe tbody tr th:only-of-type {\n",
       "        vertical-align: middle;\n",
       "    }\n",
       "\n",
       "    .dataframe tbody tr th {\n",
       "        vertical-align: top;\n",
       "    }\n",
       "\n",
       "    .dataframe thead th {\n",
       "        text-align: right;\n",
       "    }\n",
       "</style>\n",
       "<table border=\"1\" class=\"dataframe\">\n",
       "  <thead>\n",
       "    <tr style=\"text-align: right;\">\n",
       "      <th></th>\n",
       "      <th>평균 킬</th>\n",
       "      <th>평균 데스</th>\n",
       "      <th>평균 어시스트</th>\n",
       "      <th>평균 승률</th>\n",
       "      <th>매치 수</th>\n",
       "    </tr>\n",
       "  </thead>\n",
       "  <tbody>\n",
       "    <tr>\n",
       "      <th>Akshan</th>\n",
       "      <td>7.0</td>\n",
       "      <td>9.666667</td>\n",
       "      <td>8.666667</td>\n",
       "      <td>0.666667</td>\n",
       "      <td>3</td>\n",
       "    </tr>\n",
       "    <tr>\n",
       "      <th>Ashe</th>\n",
       "      <td>5.5</td>\n",
       "      <td>7.25</td>\n",
       "      <td>11.25</td>\n",
       "      <td>0.25</td>\n",
       "      <td>4</td>\n",
       "    </tr>\n",
       "    <tr>\n",
       "      <th>Blitzcrank</th>\n",
       "      <td>3.5</td>\n",
       "      <td>5.875</td>\n",
       "      <td>14.375</td>\n",
       "      <td>0.625</td>\n",
       "      <td>8</td>\n",
       "    </tr>\n",
       "    <tr>\n",
       "      <th>Jax</th>\n",
       "      <td>7.454545</td>\n",
       "      <td>5.227273</td>\n",
       "      <td>5.545455</td>\n",
       "      <td>0.590909</td>\n",
       "      <td>22</td>\n",
       "    </tr>\n",
       "    <tr>\n",
       "      <th>Lissandra</th>\n",
       "      <td>4.272727</td>\n",
       "      <td>4.318182</td>\n",
       "      <td>8.090909</td>\n",
       "      <td>0.545455</td>\n",
       "      <td>22</td>\n",
       "    </tr>\n",
       "    <tr>\n",
       "      <th>Nasus</th>\n",
       "      <td>2.333333</td>\n",
       "      <td>5.0</td>\n",
       "      <td>3.333333</td>\n",
       "      <td>0.666667</td>\n",
       "      <td>3</td>\n",
       "    </tr>\n",
       "    <tr>\n",
       "      <th>Twitch</th>\n",
       "      <td>6.666667</td>\n",
       "      <td>5.833333</td>\n",
       "      <td>6.166667</td>\n",
       "      <td>0.5</td>\n",
       "      <td>6</td>\n",
       "    </tr>\n",
       "    <tr>\n",
       "      <th>Udyr</th>\n",
       "      <td>7.666667</td>\n",
       "      <td>5.0</td>\n",
       "      <td>4.0</td>\n",
       "      <td>0.666667</td>\n",
       "      <td>3</td>\n",
       "    </tr>\n",
       "  </tbody>\n",
       "</table>\n",
       "</div>"
      ],
      "text/plain": [
       "                평균 킬     평균 데스   평균 어시스트     평균 승률 매치 수\n",
       "Akshan           7.0  9.666667  8.666667  0.666667    3\n",
       "Ashe             5.5      7.25     11.25      0.25    4\n",
       "Blitzcrank       3.5     5.875    14.375     0.625    8\n",
       "Jax         7.454545  5.227273  5.545455  0.590909   22\n",
       "Lissandra   4.272727  4.318182  8.090909  0.545455   22\n",
       "Nasus       2.333333       5.0  3.333333  0.666667    3\n",
       "Twitch      6.666667  5.833333  6.166667       0.5    6\n",
       "Udyr        7.666667       5.0       4.0  0.666667    3"
      ]
     },
     "execution_count": 197,
     "metadata": {},
     "output_type": "execute_result"
    }
   ],
   "source": [
    "res[res['매치 수'] > 2]"
   ]
  },
  {
   "cell_type": "code",
   "execution_count": 200,
   "id": "1b7e407d",
   "metadata": {},
   "outputs": [
    {
     "data": {
      "image/png": "[encoded data removed]",
      "text/plain": [
       "<Figure size 600x600 with 1 Axes>"
      ]
     },
     "metadata": {},
     "output_type": "display_data"
    }
   ],
   "source": [
    "x = np.arange(5)\n",
    "w = 0.1\n",
    "\n",
    "# 공통 매치 수로 비교하기\n",
    "Champ = res[res['매치 수'] > 2].index\n",
    "Data = [res.loc[Champ[i]] for i in range(len(Champ))]\n",
    "\n",
    "'''\n",
    "챔프명 입력 받아서 비교하기\n",
    "Champ = input().split()\n",
    "Data = [res.loc[Champ[i]] for i in range(len(Champ))]\n",
    "'''\n",
    "\n",
    "plt.figure(figsize=(6, 6))\n",
    "plt.grid(axis='y')\n",
    "plt.xticks(x, ['평균 킬', '평균 데스', '평균 어시스트', '평균 승률', '매치 수'])\n",
    "\n",
    "for i in range(len(Champ)):\n",
    "    pos = x + w*(i-(len(Champ)-1)*0.5)\n",
    "    plt.bar(pos, Data[i], width=w, label=Data[i].name)\n",
    "plt.legend()\n",
    "plt.show()"
   ]
  },
  {
   "cell_type": "markdown",
   "id": "95c70d90",
   "metadata": {},
   "source": [
    "* 한 번만 플레이한 챔프들에 대해서"
   ]
  },
  {
   "cell_type": "code",
   "execution_count": 201,
   "id": "357ff96d",
   "metadata": {},
   "outputs": [
    {
     "name": "stderr",
     "output_type": "stream",
     "text": [
      "C:\\Users\\k0105\\anaconda3\\lib\\site-packages\\seaborn\\utils.py:95: UserWarning: Glyph 8722 (\\N{MINUS SIGN}) missing from current font.\n",
      "  fig.canvas.draw()\n",
      "C:\\Users\\k0105\\anaconda3\\lib\\site-packages\\IPython\\core\\pylabtools.py:151: UserWarning: Glyph 8722 (\\N{MINUS SIGN}) missing from current font.\n",
      "  fig.canvas.print_figure(bytes_io, **kw)\n"
     ]
    },
    {
     "data": {
      "image/png": "[encoded data removed]",
      "text/plain": [
       "<Figure size 640x480 with 2 Axes>"
      ]
     },
     "metadata": {},
     "output_type": "display_data"
    }
   ],
   "source": [
    "sns.heatmap(data=res[res['매치 수'] == 1].astype('float64').corr(), vmin=-1, vmax=1, annot=True, fmt=\".2f\")\n",
    "plt.show()"
   ]
  },
  {
   "cell_type": "markdown",
   "id": "2bd982c9",
   "metadata": {},
   "source": [
    "##### Result of the most played champ"
   ]
  },
  {
   "cell_type": "code",
   "execution_count": 202,
   "id": "f10d83de",
   "metadata": {},
   "outputs": [
    {
     "data": {
      "text/html": [
       "<div>\n",
       "<style scoped>\n",
       "    .dataframe tbody tr th:only-of-type {\n",
       "        vertical-align: middle;\n",
       "    }\n",
       "\n",
       "    .dataframe tbody tr th {\n",
       "        vertical-align: top;\n",
       "    }\n",
       "\n",
       "    .dataframe thead th {\n",
       "        text-align: right;\n",
       "    }\n",
       "</style>\n",
       "<table border=\"1\" class=\"dataframe\">\n",
       "  <thead>\n",
       "    <tr style=\"text-align: right;\">\n",
       "      <th></th>\n",
       "      <th>킬</th>\n",
       "      <th>데스</th>\n",
       "      <th>어시스트</th>\n",
       "      <th>결과</th>\n",
       "    </tr>\n",
       "  </thead>\n",
       "  <tbody>\n",
       "    <tr>\n",
       "      <th>6</th>\n",
       "      <td>8</td>\n",
       "      <td>2</td>\n",
       "      <td>9</td>\n",
       "      <td>승리</td>\n",
       "    </tr>\n",
       "    <tr>\n",
       "      <th>14</th>\n",
       "      <td>1</td>\n",
       "      <td>3</td>\n",
       "      <td>0</td>\n",
       "      <td>패배</td>\n",
       "    </tr>\n",
       "    <tr>\n",
       "      <th>21</th>\n",
       "      <td>15</td>\n",
       "      <td>2</td>\n",
       "      <td>6</td>\n",
       "      <td>승리</td>\n",
       "    </tr>\n",
       "    <tr>\n",
       "      <th>40</th>\n",
       "      <td>7</td>\n",
       "      <td>6</td>\n",
       "      <td>1</td>\n",
       "      <td>패배</td>\n",
       "    </tr>\n",
       "    <tr>\n",
       "      <th>58</th>\n",
       "      <td>7</td>\n",
       "      <td>10</td>\n",
       "      <td>7</td>\n",
       "      <td>패배</td>\n",
       "    </tr>\n",
       "    <tr>\n",
       "      <th>61</th>\n",
       "      <td>4</td>\n",
       "      <td>3</td>\n",
       "      <td>7</td>\n",
       "      <td>승리</td>\n",
       "    </tr>\n",
       "    <tr>\n",
       "      <th>63</th>\n",
       "      <td>4</td>\n",
       "      <td>3</td>\n",
       "      <td>1</td>\n",
       "      <td>패배</td>\n",
       "    </tr>\n",
       "    <tr>\n",
       "      <th>70</th>\n",
       "      <td>7</td>\n",
       "      <td>10</td>\n",
       "      <td>15</td>\n",
       "      <td>승리</td>\n",
       "    </tr>\n",
       "    <tr>\n",
       "      <th>76</th>\n",
       "      <td>9</td>\n",
       "      <td>1</td>\n",
       "      <td>5</td>\n",
       "      <td>승리</td>\n",
       "    </tr>\n",
       "    <tr>\n",
       "      <th>77</th>\n",
       "      <td>12</td>\n",
       "      <td>3</td>\n",
       "      <td>5</td>\n",
       "      <td>승리</td>\n",
       "    </tr>\n",
       "    <tr>\n",
       "      <th>78</th>\n",
       "      <td>7</td>\n",
       "      <td>5</td>\n",
       "      <td>4</td>\n",
       "      <td>승리</td>\n",
       "    </tr>\n",
       "    <tr>\n",
       "      <th>80</th>\n",
       "      <td>3</td>\n",
       "      <td>7</td>\n",
       "      <td>3</td>\n",
       "      <td>패배</td>\n",
       "    </tr>\n",
       "    <tr>\n",
       "      <th>82</th>\n",
       "      <td>15</td>\n",
       "      <td>4</td>\n",
       "      <td>2</td>\n",
       "      <td>승리</td>\n",
       "    </tr>\n",
       "    <tr>\n",
       "      <th>83</th>\n",
       "      <td>4</td>\n",
       "      <td>4</td>\n",
       "      <td>6</td>\n",
       "      <td>승리</td>\n",
       "    </tr>\n",
       "    <tr>\n",
       "      <th>84</th>\n",
       "      <td>9</td>\n",
       "      <td>8</td>\n",
       "      <td>2</td>\n",
       "      <td>승리</td>\n",
       "    </tr>\n",
       "    <tr>\n",
       "      <th>86</th>\n",
       "      <td>9</td>\n",
       "      <td>13</td>\n",
       "      <td>6</td>\n",
       "      <td>패배</td>\n",
       "    </tr>\n",
       "    <tr>\n",
       "      <th>90</th>\n",
       "      <td>9</td>\n",
       "      <td>5</td>\n",
       "      <td>6</td>\n",
       "      <td>승리</td>\n",
       "    </tr>\n",
       "    <tr>\n",
       "      <th>93</th>\n",
       "      <td>7</td>\n",
       "      <td>7</td>\n",
       "      <td>16</td>\n",
       "      <td>패배</td>\n",
       "    </tr>\n",
       "    <tr>\n",
       "      <th>95</th>\n",
       "      <td>5</td>\n",
       "      <td>5</td>\n",
       "      <td>1</td>\n",
       "      <td>패배</td>\n",
       "    </tr>\n",
       "    <tr>\n",
       "      <th>96</th>\n",
       "      <td>6</td>\n",
       "      <td>5</td>\n",
       "      <td>3</td>\n",
       "      <td>패배</td>\n",
       "    </tr>\n",
       "    <tr>\n",
       "      <th>97</th>\n",
       "      <td>4</td>\n",
       "      <td>9</td>\n",
       "      <td>17</td>\n",
       "      <td>승리</td>\n",
       "    </tr>\n",
       "    <tr>\n",
       "      <th>98</th>\n",
       "      <td>12</td>\n",
       "      <td>0</td>\n",
       "      <td>0</td>\n",
       "      <td>승리</td>\n",
       "    </tr>\n",
       "  </tbody>\n",
       "</table>\n",
       "</div>"
      ],
      "text/plain": [
       "     킬  데스  어시스트  결과\n",
       "6    8   2     9  승리\n",
       "14   1   3     0  패배\n",
       "21  15   2     6  승리\n",
       "40   7   6     1  패배\n",
       "58   7  10     7  패배\n",
       "61   4   3     7  승리\n",
       "63   4   3     1  패배\n",
       "70   7  10    15  승리\n",
       "76   9   1     5  승리\n",
       "77  12   3     5  승리\n",
       "78   7   5     4  승리\n",
       "80   3   7     3  패배\n",
       "82  15   4     2  승리\n",
       "83   4   4     6  승리\n",
       "84   9   8     2  승리\n",
       "86   9  13     6  패배\n",
       "90   9   5     6  승리\n",
       "93   7   7    16  패배\n",
       "95   5   5     1  패배\n",
       "96   6   5     3  패배\n",
       "97   4   9    17  승리\n",
       "98  12   0     0  승리"
      ]
     },
     "execution_count": 202,
     "metadata": {},
     "output_type": "execute_result"
    }
   ],
   "source": [
    "test = matches[matches['챔피언'] == classic_most_champion].loc[:, '킬':]\n",
    "test"
   ]
  },
  {
   "cell_type": "code",
   "execution_count": 203,
   "id": "ef8d88dd",
   "metadata": {},
   "outputs": [
    {
     "data": {
      "image/png": "[encoded data removed]",
      "text/plain": [
       "<Figure size 500x300 with 1 Axes>"
      ]
     },
     "metadata": {},
     "output_type": "display_data"
    }
   ],
   "source": [
    "plt.figure(figsize=(5,3))\n",
    "plt.title(classic_most_champion+'\\'s result')\n",
    "plt.grid()\n",
    "sns.lineplot(data=test, x='데스', y='어시스트', hue='결과', style='결과', markers= [\"o\",\"X\"], ci=None)\n",
    "plt.show()"
   ]
  },
  {
   "cell_type": "code",
   "execution_count": 204,
   "id": "f6a59cd6",
   "metadata": {},
   "outputs": [
    {
     "name": "stderr",
     "output_type": "stream",
     "text": [
      "C:\\Users\\k0105\\anaconda3\\lib\\site-packages\\seaborn\\utils.py:95: UserWarning: Glyph 8722 (\\N{MINUS SIGN}) missing from current font.\n",
      "  fig.canvas.draw()\n",
      "C:\\Users\\k0105\\anaconda3\\lib\\site-packages\\IPython\\core\\pylabtools.py:151: UserWarning: Glyph 8722 (\\N{MINUS SIGN}) missing from current font.\n",
      "  fig.canvas.print_figure(bytes_io, **kw)\n"
     ]
    },
    {
     "data": {
      "image/png": "[encoded data removed]",
      "text/plain": [
       "<Figure size 400x300 with 2 Axes>"
      ]
     },
     "metadata": {},
     "output_type": "display_data"
    }
   ],
   "source": [
    "plt.figure(figsize=(4,3))\n",
    "sns.heatmap(data=test.corr(), vmin=-1, vmax=1, annot=True, fmt=\".2f\")\n",
    "plt.show()"
   ]
  },
  {
   "cell_type": "markdown",
   "id": "77437299",
   "metadata": {},
   "source": [
    "## Champion info scraping"
   ]
  },
  {
   "cell_type": "markdown",
   "id": "286355ef",
   "metadata": {},
   "source": [
    "* 스크래핑할 사이트: OP.GG\n",
    "> https://www.op.gg/\n",
    "    * 데이터는 알파벳 기준 정렬되어 수집\n",
    "    * 한글로 가져오는 방법은 따로 다루지 않음, 원할 경우 구글 참조 바람"
   ]
  },
  {
   "cell_type": "markdown",
   "id": "5c35d2d1",
   "metadata": {},
   "source": [
    "* 포지션 태그에 해당하는 챔피언이름 불러오기\n",
    "    * 탑 : top\n",
    "    * 미드 : mid\n",
    "    * 원딜(바텀) : adc\n",
    "    * 서폿 : support\n",
    "    * 정글 : jungle"
   ]
  },
  {
   "cell_type": "code",
   "execution_count": null,
   "id": "eff9b291",
   "metadata": {},
   "outputs": [],
   "source": [
    "chrome_ver = chromedriver_autoinstaller.get_chrome_version().split('.')[0]\n",
    "s = Service(f'./{chrome_ver}/chromedriver.exe')\n",
    "\n",
    "try:\n",
    "    driver = webdriver.Chrome(service=s)   \n",
    "except:\n",
    "    chromedriver_autoinstaller.install(True)\n",
    "    driver = webdriver.Chrome(service=s)\n",
    "\n",
    "driver.implicitly_wait(10)"
   ]
  },
  {
   "cell_type": "code",
   "execution_count": null,
   "id": "0469d3da",
   "metadata": {},
   "outputs": [],
   "source": [
    "position = \"top\"\n",
    "url = \"https://www.op.gg/champions?region=global&tier=platinum_plus&position=\"+position\n",
    "html = urlopen(url)\n",
    "bsObject = BeautifulSoup(html, \"html.parser\") \n",
    "championList = [a[\"href\"].split(\"/\")[2] for a in bsObject.select(\".e1oulx2j7 > tbody > tr > .e1oulx2j6 > a\")]"
   ]
  },
  {
   "cell_type": "markdown",
   "id": "0ed82df2",
   "metadata": {},
   "source": [
    "* 가져올 챔피언의 수를 지정"
   ]
  },
  {
   "cell_type": "code",
   "execution_count": null,
   "id": "783df354",
   "metadata": {},
   "outputs": [],
   "source": [
    "champ = 7"
   ]
  },
  {
   "cell_type": "code",
   "execution_count": null,
   "id": "40e08b18",
   "metadata": {},
   "outputs": [],
   "source": [
    "championList = championList[:champ]\n",
    "\n",
    "win_rates = []\n",
    "for num, champion in enumerate(championList):\n",
    "    champion_win_rates = {}\n",
    "    progress_desc = str(num+1)+\". \"+champion+\"(\"+str(num+1)+\"/\"+str(len(championList))+\")\"\n",
    "    for target_champion in tqdm(championList, desc=progress_desc):\n",
    "        if champion == target_champion: champion_win_rates[target_champion] = None\n",
    "        else:\n",
    "            url = \"https://www.op.gg/champions/\"+champion+\"/\"+position+\"/counters?region=global&tier=platinum_plus&target_champion=\"+target_champion\n",
    "            driver.get(url)\n",
    "            bsObject = BeautifulSoup(driver.page_source, \"html.parser\") \n",
    "            win_rate = bsObject.select(\"#content-header > div:nth-child(1) > div:nth-child(3) > div > div.ew1oorz8 > div:nth-child(3) > div.ew1oorz5\")[].get_text().replace(\"%\",\"\").strip()\n",
    "            champion_win_rates[target_champion] = float(win_rate) if win_rate != '-' else np.nan\n",
    "            time.sleep(3)\n",
    "    win_rates.append(champion_win_rates);\n",
    "win_rates = pd.DataFrame(win_rates)\n",
    "win_rates.index = championList\n",
    "win_rates"
   ]
  },
  {
   "cell_type": "markdown",
   "id": "482cfab8",
   "metadata": {},
   "source": [
    "* 첫 문자 대문자로 변경\n",
    "    * 단순 편의를 위함"
   ]
  },
  {
   "cell_type": "code",
   "execution_count": null,
   "id": "9dcfe8cc",
   "metadata": {},
   "outputs": [],
   "source": [
    "label = [i[0].upper()+i[1:] for i in win_rates.columns]"
   ]
  },
  {
   "cell_type": "code",
   "execution_count": null,
   "id": "a74f27d0",
   "metadata": {},
   "outputs": [],
   "source": [
    "win_rates.index = win_rates.columns = label"
   ]
  },
  {
   "cell_type": "code",
   "execution_count": null,
   "id": "1d2bcb21",
   "metadata": {
    "scrolled": false
   },
   "outputs": [],
   "source": [
    "win_rates"
   ]
  },
  {
   "cell_type": "markdown",
   "id": "a0fd3255",
   "metadata": {},
   "source": [
    "### Data analysis"
   ]
  },
  {
   "cell_type": "markdown",
   "id": "b0f6ecfd",
   "metadata": {},
   "source": [
    "* 결측치 대체\n",
    "    * 데이터가 쌓이지 않았거나 미러전에 대해선 결측치 발생\n",
    "    * 편의를 위해 대체"
   ]
  },
  {
   "cell_type": "code",
   "execution_count": null,
   "id": "63e464de",
   "metadata": {},
   "outputs": [],
   "source": [
    "win_rates = win_rates.fillna(0)"
   ]
  },
  {
   "cell_type": "markdown",
   "id": "f070941e",
   "metadata": {},
   "source": [
    "#### Counter matchup comparison"
   ]
  },
  {
   "cell_type": "markdown",
   "id": "dba8b714",
   "metadata": {},
   "source": [
    "* 챔피언 간의 승률 확인"
   ]
  },
  {
   "cell_type": "code",
   "execution_count": null,
   "id": "659e26a6",
   "metadata": {},
   "outputs": [],
   "source": [
    "chart = sns.heatmap(win_rates, annot=True, fmt=\".2f\", vmin=0.0, vmax=100.0)\n",
    "\n",
    "chart.set_xticklabels(chart.get_xticklabels(), rotation=0)\n",
    "chart.set_yticklabels(chart.get_yticklabels(), rotation=0)\n",
    "\n",
    "plt.show()"
   ]
  },
  {
   "cell_type": "code",
   "execution_count": null,
   "id": "73a95e26",
   "metadata": {},
   "outputs": [],
   "source": [
    "driver.quit()"
   ]
  },
  {
   "cell_type": "markdown",
   "id": "e4a53d05",
   "metadata": {},
   "source": [
    "#### Check the trend"
   ]
  },
  {
   "cell_type": "markdown",
   "id": "e9f66dd5",
   "metadata": {},
   "source": [
    "* 2년 전 인터뷰이지만 OP.GG 데이터 분석가 피셜, 승률 변화를 확인하면 어떤 챔피언이 좋은지 캐치할 수 있다고 함"
   ]
  },
  {
   "cell_type": "code",
   "execution_count": null,
   "id": "2129a46b",
   "metadata": {},
   "outputs": [],
   "source": [
    "chrome_ver = chromedriver_autoinstaller.get_chrome_version().split('.')[0]\n",
    "s = Service(f'./{chrome_ver}/chromedriver.exe')\n",
    "\n",
    "try:\n",
    "    driver = webdriver.Chrome(service=s)   \n",
    "except:\n",
    "    chromedriver_autoinstaller.install(True)\n",
    "    driver = webdriver.Chrome(service=s)\n",
    "\n",
    "driver.implicitly_wait(10)"
   ]
  },
  {
   "cell_type": "code",
   "execution_count": null,
   "id": "412bf378",
   "metadata": {},
   "outputs": [],
   "source": [
    "position = \"top\"\n",
    "url = \"https://www.op.gg/champions?region=global&tier=platinum_plus&position=\"+position\n",
    "html = urlopen(url)\n",
    "bsObject = BeautifulSoup(html, \"html.parser\") \n",
    "championList = [a[\"href\"].split(\"/\")[2] for a in bsObject.select(\".e1oulx2j7 > tbody > tr > .e1oulx2j6 > a\")]"
   ]
  },
  {
   "cell_type": "markdown",
   "id": "57c19196",
   "metadata": {},
   "source": [
    "* 가져올 챔피언의 수를 지정"
   ]
  },
  {
   "cell_type": "code",
   "execution_count": null,
   "id": "35f8768e",
   "metadata": {},
   "outputs": [],
   "source": [
    "champ = 7"
   ]
  },
  {
   "cell_type": "markdown",
   "id": "4be8141c",
   "metadata": {},
   "source": [
    "* 패치 날짜를 가져옴\n",
    "    * 날짜는 한 번만 가져오면 되기 때문에 따로 분리"
   ]
  },
  {
   "cell_type": "code",
   "execution_count": null,
   "id": "cd787991",
   "metadata": {},
   "outputs": [],
   "source": [
    "for _ in tqdm(range(1)):\n",
    "    champion = championList[0]\n",
    "    url = \"https://www.op.gg/champions/\"+champion+\"/\"+position+\"/trends?region=global&tier=platinum_plus\"\n",
    "    driver.get(url)\n",
    "    time.sleep(3)\n",
    "    bsObject = BeautifulSoup(driver.page_source, \"html.parser\")\n",
    "    patch_date = bsObject.select(\"#content-container > section:nth-child(1) > div:nth-child(3) > \\\n",
    "                                                div:nth-child(1) > svg > g:nth-child(2) > g > g > text > tspan\")\n",
    "    patch_date = [date.get_text() for date in patch_date]\n",
    "patch_date"
   ]
  },
  {
   "cell_type": "markdown",
   "id": "a57b87c6",
   "metadata": {},
   "source": [
    "* 승률 트렌드 데이터 스크래핑"
   ]
  },
  {
   "cell_type": "code",
   "execution_count": null,
   "id": "a70f5585",
   "metadata": {},
   "outputs": [],
   "source": [
    "championList = championList[:champ]\n",
    "trends = []\n",
    "\n",
    "for num, champion in enumerate(championList):\n",
    "    trend = []\n",
    "    progress_desc = str(num+1)+\". \"+champion+\"(\"+str(num+1)+\"/\"+str(len(championList))+\")\"\n",
    "    for _ in tqdm(range(1), desc=progress_desc):\n",
    "        url = \"https://www.op.gg/champions/\"+champion+\"/\"+position+\"/trends?region=global&tier=platinum_plus\"\n",
    "        driver.get(url)\n",
    "        time.sleep(3)\n",
    "        bsObject = BeautifulSoup(driver.page_source, \"html.parser\")\n",
    "        trend = bsObject.select(\"#content-container > section:nth-child(1) > div:nth-child(3) > \\\n",
    "                                        div:nth-child(1) > svg > g:nth-child(4) > g:nth-child(3) > text > tspan\")\n",
    "    trend = [i.get_text()[:-1] for i in trend]\n",
    "    trends.append(trend)  \n",
    "trends = pd.DataFrame(trends, index=championList, columns=patch_date)\n",
    "trends"
   ]
  },
  {
   "cell_type": "markdown",
   "id": "276e3c65",
   "metadata": {},
   "source": [
    "* 왜인지 가끔 데이터들이 안 가져올 때가 있는데 비효율적이지만 while문으로 받을 때까지 반복할 수 있도록 아래 코드를 사용해 주세요.\n",
    "    * 일단 위에 코드는 수정해 본다고 수정한 코드이긴 합니다.\n",
    "    * 확인된 것 중 하나는 스크래핑하는 크롬창을 최소화하면 오래 걸리거나 안 되는 부분이 있는 듯합니다."
   ]
  },
  {
   "cell_type": "markdown",
   "id": "f02c45cd",
   "metadata": {},
   "source": [
    "```\n",
    "championList = championList[:champ]\n",
    "trends = []\n",
    "\n",
    "for num, champion in enumerate(championList):\n",
    "    trend = []\n",
    "    progress_desc = str(num+1)+\". \"+champion+\"(\"+str(num+1)+\"/\"+str(len(championList))+\")\"\n",
    "    for _ in tqdm(range(1), desc=progress_desc):\n",
    "        while not trend:\n",
    "            url = \"https://www.op.gg/champions/\"+champion+\"/\"+position+\"/trends?region=global&tier=platinum_plus\"\n",
    "            driver.get(url)\n",
    "            time.sleep(3)\n",
    "            bsObject = BeautifulSoup(driver.page_source, \"html.parser\")\n",
    "            trend = bsObject.select(\"#content-container > section:nth-child(1) > div:nth-child(3) > \\\n",
    "                                        div:nth-child(1) > svg > g:nth-child(4) > g:nth-child(3) > text > tspan\")\n",
    "        print(trend)\n",
    "        trend = [i.get_text()[:-1] for i in trend]\n",
    "    trends.append(trend)  \n",
    "trends = pd.DataFrame(trends, index=championList, columns=patch_date)\n",
    "trends\n",
    "```"
   ]
  },
  {
   "cell_type": "markdown",
   "id": "929bf460",
   "metadata": {},
   "source": [
    "* 첫 문자 대문자로 변경"
   ]
  },
  {
   "cell_type": "code",
   "execution_count": null,
   "id": "9305ffa4",
   "metadata": {},
   "outputs": [],
   "source": [
    "label = [i[0].upper()+i[1:] for i in trends.index]\n",
    "trends.index = label"
   ]
  },
  {
   "cell_type": "code",
   "execution_count": null,
   "id": "3472854e",
   "metadata": {},
   "outputs": [],
   "source": [
    "plt.figure(figsize=(10, 4))\n",
    "plt.title('Trend')\n",
    "plt.grid()\n",
    "plt.xlabel('Patch date')\n",
    "plt.ylabel('Ranking')\n",
    "makers_dash = ['x-.', '*--', '+-.', 's:', 'o-', 'd--', 'p--',]\n",
    "\n",
    "for idx, champ in enumerate(trends.index):\n",
    "    y = np.array(trends.loc[champ]).astype(int)\n",
    "    plt.yticks(-y, y)\n",
    "    plt.plot(trends.columns, -y.astype(int), makers_dash[idx], label=trends.loc[champ].name)\n",
    "plt.legend(bbox_to_anchor=(1, 0.5))\n",
    "plt.show()"
   ]
  },
  {
   "cell_type": "code",
   "execution_count": null,
   "id": "c88f0ea2",
   "metadata": {},
   "outputs": [],
   "source": [
    "driver.quit()"
   ]
  }
 ],
 "metadata": {
  "kernelspec": {
   "display_name": "Python 3 (ipykernel)",
   "language": "python",
   "name": "python3"
  },
  "language_info": {
   "codemirror_mode": {
    "name": "ipython",
    "version": 3
   },
   "file_extension": ".py",
   "mimetype": "text/x-python",
   "name": "python",
   "nbconvert_exporter": "python",
   "pygments_lexer": "ipython3",
   "version": "3.9.13"
  }
 },
 "nbformat": 4,
 "nbformat_minor": 5
}
